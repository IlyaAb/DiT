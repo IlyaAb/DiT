{
  "nbformat": 4,
  "nbformat_minor": 0,
  "metadata": {
    "colab": {
      "provenance": [],
      "gpuType": "T4"
    },
    "kernelspec": {
      "name": "python3",
      "display_name": "Python 3"
    },
    "language_info": {
      "name": "python"
    },
    "accelerator": "GPU",
    "widgets": {
      "application/vnd.jupyter.widget-state+json": {
        "d2edaa8d6e0743a4abfe5274055d92c1": {
          "model_module": "@jupyter-widgets/controls",
          "model_name": "HBoxModel",
          "model_module_version": "1.5.0",
          "state": {
            "_dom_classes": [],
            "_model_module": "@jupyter-widgets/controls",
            "_model_module_version": "1.5.0",
            "_model_name": "HBoxModel",
            "_view_count": null,
            "_view_module": "@jupyter-widgets/controls",
            "_view_module_version": "1.5.0",
            "_view_name": "HBoxView",
            "box_style": "",
            "children": [
              "IPY_MODEL_7c62a62ee99b499ab91fd4026f0a7109",
              "IPY_MODEL_891c570c347244f7be292ac06202f599",
              "IPY_MODEL_241981e91a2c486199b440c84ecc727b"
            ],
            "layout": "IPY_MODEL_dac228056c754579801a022c4156901a"
          }
        },
        "7c62a62ee99b499ab91fd4026f0a7109": {
          "model_module": "@jupyter-widgets/controls",
          "model_name": "HTMLModel",
          "model_module_version": "1.5.0",
          "state": {
            "_dom_classes": [],
            "_model_module": "@jupyter-widgets/controls",
            "_model_module_version": "1.5.0",
            "_model_name": "HTMLModel",
            "_view_count": null,
            "_view_module": "@jupyter-widgets/controls",
            "_view_module_version": "1.5.0",
            "_view_name": "HTMLView",
            "description": "",
            "description_tooltip": null,
            "layout": "IPY_MODEL_09b878408ba34ab7a48ddf2297b3e4be",
            "placeholder": "​",
            "style": "IPY_MODEL_92a1f1c904d54e9f99c830c2306929e9",
            "value": "Downloading (…)lve/main/config.json: 100%"
          }
        },
        "891c570c347244f7be292ac06202f599": {
          "model_module": "@jupyter-widgets/controls",
          "model_name": "FloatProgressModel",
          "model_module_version": "1.5.0",
          "state": {
            "_dom_classes": [],
            "_model_module": "@jupyter-widgets/controls",
            "_model_module_version": "1.5.0",
            "_model_name": "FloatProgressModel",
            "_view_count": null,
            "_view_module": "@jupyter-widgets/controls",
            "_view_module_version": "1.5.0",
            "_view_name": "ProgressView",
            "bar_style": "success",
            "description": "",
            "description_tooltip": null,
            "layout": "IPY_MODEL_73632c422c0d41dda1bd6f58cb8299aa",
            "max": 547,
            "min": 0,
            "orientation": "horizontal",
            "style": "IPY_MODEL_c57b0f6a690b41e1b941499c5b557277",
            "value": 547
          }
        },
        "241981e91a2c486199b440c84ecc727b": {
          "model_module": "@jupyter-widgets/controls",
          "model_name": "HTMLModel",
          "model_module_version": "1.5.0",
          "state": {
            "_dom_classes": [],
            "_model_module": "@jupyter-widgets/controls",
            "_model_module_version": "1.5.0",
            "_model_name": "HTMLModel",
            "_view_count": null,
            "_view_module": "@jupyter-widgets/controls",
            "_view_module_version": "1.5.0",
            "_view_name": "HTMLView",
            "description": "",
            "description_tooltip": null,
            "layout": "IPY_MODEL_ceca15cf836e4d1e9b0d0501c33a66b8",
            "placeholder": "​",
            "style": "IPY_MODEL_f4cadbe4d5514debbf53004cbe80549a",
            "value": " 547/547 [00:00&lt;00:00, 21.0kB/s]"
          }
        },
        "dac228056c754579801a022c4156901a": {
          "model_module": "@jupyter-widgets/base",
          "model_name": "LayoutModel",
          "model_module_version": "1.2.0",
          "state": {
            "_model_module": "@jupyter-widgets/base",
            "_model_module_version": "1.2.0",
            "_model_name": "LayoutModel",
            "_view_count": null,
            "_view_module": "@jupyter-widgets/base",
            "_view_module_version": "1.2.0",
            "_view_name": "LayoutView",
            "align_content": null,
            "align_items": null,
            "align_self": null,
            "border": null,
            "bottom": null,
            "display": null,
            "flex": null,
            "flex_flow": null,
            "grid_area": null,
            "grid_auto_columns": null,
            "grid_auto_flow": null,
            "grid_auto_rows": null,
            "grid_column": null,
            "grid_gap": null,
            "grid_row": null,
            "grid_template_areas": null,
            "grid_template_columns": null,
            "grid_template_rows": null,
            "height": null,
            "justify_content": null,
            "justify_items": null,
            "left": null,
            "margin": null,
            "max_height": null,
            "max_width": null,
            "min_height": null,
            "min_width": null,
            "object_fit": null,
            "object_position": null,
            "order": null,
            "overflow": null,
            "overflow_x": null,
            "overflow_y": null,
            "padding": null,
            "right": null,
            "top": null,
            "visibility": null,
            "width": null
          }
        },
        "09b878408ba34ab7a48ddf2297b3e4be": {
          "model_module": "@jupyter-widgets/base",
          "model_name": "LayoutModel",
          "model_module_version": "1.2.0",
          "state": {
            "_model_module": "@jupyter-widgets/base",
            "_model_module_version": "1.2.0",
            "_model_name": "LayoutModel",
            "_view_count": null,
            "_view_module": "@jupyter-widgets/base",
            "_view_module_version": "1.2.0",
            "_view_name": "LayoutView",
            "align_content": null,
            "align_items": null,
            "align_self": null,
            "border": null,
            "bottom": null,
            "display": null,
            "flex": null,
            "flex_flow": null,
            "grid_area": null,
            "grid_auto_columns": null,
            "grid_auto_flow": null,
            "grid_auto_rows": null,
            "grid_column": null,
            "grid_gap": null,
            "grid_row": null,
            "grid_template_areas": null,
            "grid_template_columns": null,
            "grid_template_rows": null,
            "height": null,
            "justify_content": null,
            "justify_items": null,
            "left": null,
            "margin": null,
            "max_height": null,
            "max_width": null,
            "min_height": null,
            "min_width": null,
            "object_fit": null,
            "object_position": null,
            "order": null,
            "overflow": null,
            "overflow_x": null,
            "overflow_y": null,
            "padding": null,
            "right": null,
            "top": null,
            "visibility": null,
            "width": null
          }
        },
        "92a1f1c904d54e9f99c830c2306929e9": {
          "model_module": "@jupyter-widgets/controls",
          "model_name": "DescriptionStyleModel",
          "model_module_version": "1.5.0",
          "state": {
            "_model_module": "@jupyter-widgets/controls",
            "_model_module_version": "1.5.0",
            "_model_name": "DescriptionStyleModel",
            "_view_count": null,
            "_view_module": "@jupyter-widgets/base",
            "_view_module_version": "1.2.0",
            "_view_name": "StyleView",
            "description_width": ""
          }
        },
        "73632c422c0d41dda1bd6f58cb8299aa": {
          "model_module": "@jupyter-widgets/base",
          "model_name": "LayoutModel",
          "model_module_version": "1.2.0",
          "state": {
            "_model_module": "@jupyter-widgets/base",
            "_model_module_version": "1.2.0",
            "_model_name": "LayoutModel",
            "_view_count": null,
            "_view_module": "@jupyter-widgets/base",
            "_view_module_version": "1.2.0",
            "_view_name": "LayoutView",
            "align_content": null,
            "align_items": null,
            "align_self": null,
            "border": null,
            "bottom": null,
            "display": null,
            "flex": null,
            "flex_flow": null,
            "grid_area": null,
            "grid_auto_columns": null,
            "grid_auto_flow": null,
            "grid_auto_rows": null,
            "grid_column": null,
            "grid_gap": null,
            "grid_row": null,
            "grid_template_areas": null,
            "grid_template_columns": null,
            "grid_template_rows": null,
            "height": null,
            "justify_content": null,
            "justify_items": null,
            "left": null,
            "margin": null,
            "max_height": null,
            "max_width": null,
            "min_height": null,
            "min_width": null,
            "object_fit": null,
            "object_position": null,
            "order": null,
            "overflow": null,
            "overflow_x": null,
            "overflow_y": null,
            "padding": null,
            "right": null,
            "top": null,
            "visibility": null,
            "width": null
          }
        },
        "c57b0f6a690b41e1b941499c5b557277": {
          "model_module": "@jupyter-widgets/controls",
          "model_name": "ProgressStyleModel",
          "model_module_version": "1.5.0",
          "state": {
            "_model_module": "@jupyter-widgets/controls",
            "_model_module_version": "1.5.0",
            "_model_name": "ProgressStyleModel",
            "_view_count": null,
            "_view_module": "@jupyter-widgets/base",
            "_view_module_version": "1.2.0",
            "_view_name": "StyleView",
            "bar_color": null,
            "description_width": ""
          }
        },
        "ceca15cf836e4d1e9b0d0501c33a66b8": {
          "model_module": "@jupyter-widgets/base",
          "model_name": "LayoutModel",
          "model_module_version": "1.2.0",
          "state": {
            "_model_module": "@jupyter-widgets/base",
            "_model_module_version": "1.2.0",
            "_model_name": "LayoutModel",
            "_view_count": null,
            "_view_module": "@jupyter-widgets/base",
            "_view_module_version": "1.2.0",
            "_view_name": "LayoutView",
            "align_content": null,
            "align_items": null,
            "align_self": null,
            "border": null,
            "bottom": null,
            "display": null,
            "flex": null,
            "flex_flow": null,
            "grid_area": null,
            "grid_auto_columns": null,
            "grid_auto_flow": null,
            "grid_auto_rows": null,
            "grid_column": null,
            "grid_gap": null,
            "grid_row": null,
            "grid_template_areas": null,
            "grid_template_columns": null,
            "grid_template_rows": null,
            "height": null,
            "justify_content": null,
            "justify_items": null,
            "left": null,
            "margin": null,
            "max_height": null,
            "max_width": null,
            "min_height": null,
            "min_width": null,
            "object_fit": null,
            "object_position": null,
            "order": null,
            "overflow": null,
            "overflow_x": null,
            "overflow_y": null,
            "padding": null,
            "right": null,
            "top": null,
            "visibility": null,
            "width": null
          }
        },
        "f4cadbe4d5514debbf53004cbe80549a": {
          "model_module": "@jupyter-widgets/controls",
          "model_name": "DescriptionStyleModel",
          "model_module_version": "1.5.0",
          "state": {
            "_model_module": "@jupyter-widgets/controls",
            "_model_module_version": "1.5.0",
            "_model_name": "DescriptionStyleModel",
            "_view_count": null,
            "_view_module": "@jupyter-widgets/base",
            "_view_module_version": "1.2.0",
            "_view_name": "StyleView",
            "description_width": ""
          }
        },
        "9635247af51a483dbbf2fb6361f74f83": {
          "model_module": "@jupyter-widgets/controls",
          "model_name": "HBoxModel",
          "model_module_version": "1.5.0",
          "state": {
            "_dom_classes": [],
            "_model_module": "@jupyter-widgets/controls",
            "_model_module_version": "1.5.0",
            "_model_name": "HBoxModel",
            "_view_count": null,
            "_view_module": "@jupyter-widgets/controls",
            "_view_module_version": "1.5.0",
            "_view_name": "HBoxView",
            "box_style": "",
            "children": [
              "IPY_MODEL_1ce9bfe5e8734ea0a27bbed7ae540d2f",
              "IPY_MODEL_5e4fb02a341a497caa67c01d0436868b",
              "IPY_MODEL_13f118a9ab5d458c9cc5d7191e16a1db"
            ],
            "layout": "IPY_MODEL_a597746031044e94aba83d62cff5bc1f"
          }
        },
        "1ce9bfe5e8734ea0a27bbed7ae540d2f": {
          "model_module": "@jupyter-widgets/controls",
          "model_name": "HTMLModel",
          "model_module_version": "1.5.0",
          "state": {
            "_dom_classes": [],
            "_model_module": "@jupyter-widgets/controls",
            "_model_module_version": "1.5.0",
            "_model_name": "HTMLModel",
            "_view_count": null,
            "_view_module": "@jupyter-widgets/controls",
            "_view_module_version": "1.5.0",
            "_view_name": "HTMLView",
            "description": "",
            "description_tooltip": null,
            "layout": "IPY_MODEL_43fc8eaa89f74c82bdf58213a8277153",
            "placeholder": "​",
            "style": "IPY_MODEL_c3b07016875c4e6e92335403a8c18cff",
            "value": "Downloading (…)ch_model.safetensors: 100%"
          }
        },
        "5e4fb02a341a497caa67c01d0436868b": {
          "model_module": "@jupyter-widgets/controls",
          "model_name": "FloatProgressModel",
          "model_module_version": "1.5.0",
          "state": {
            "_dom_classes": [],
            "_model_module": "@jupyter-widgets/controls",
            "_model_module_version": "1.5.0",
            "_model_name": "FloatProgressModel",
            "_view_count": null,
            "_view_module": "@jupyter-widgets/controls",
            "_view_module_version": "1.5.0",
            "_view_name": "ProgressView",
            "bar_style": "success",
            "description": "",
            "description_tooltip": null,
            "layout": "IPY_MODEL_baf32a5fd324476281c3a17d4be27603",
            "max": 334643276,
            "min": 0,
            "orientation": "horizontal",
            "style": "IPY_MODEL_b3784f91245f46ba99be3efa2a9a79f5",
            "value": 334643276
          }
        },
        "13f118a9ab5d458c9cc5d7191e16a1db": {
          "model_module": "@jupyter-widgets/controls",
          "model_name": "HTMLModel",
          "model_module_version": "1.5.0",
          "state": {
            "_dom_classes": [],
            "_model_module": "@jupyter-widgets/controls",
            "_model_module_version": "1.5.0",
            "_model_name": "HTMLModel",
            "_view_count": null,
            "_view_module": "@jupyter-widgets/controls",
            "_view_module_version": "1.5.0",
            "_view_name": "HTMLView",
            "description": "",
            "description_tooltip": null,
            "layout": "IPY_MODEL_c2fb022edd8e4255afc795629c37480b",
            "placeholder": "​",
            "style": "IPY_MODEL_92dd1f93889940b58212f3197e4b7d8f",
            "value": " 335M/335M [00:03&lt;00:00, 116MB/s]"
          }
        },
        "a597746031044e94aba83d62cff5bc1f": {
          "model_module": "@jupyter-widgets/base",
          "model_name": "LayoutModel",
          "model_module_version": "1.2.0",
          "state": {
            "_model_module": "@jupyter-widgets/base",
            "_model_module_version": "1.2.0",
            "_model_name": "LayoutModel",
            "_view_count": null,
            "_view_module": "@jupyter-widgets/base",
            "_view_module_version": "1.2.0",
            "_view_name": "LayoutView",
            "align_content": null,
            "align_items": null,
            "align_self": null,
            "border": null,
            "bottom": null,
            "display": null,
            "flex": null,
            "flex_flow": null,
            "grid_area": null,
            "grid_auto_columns": null,
            "grid_auto_flow": null,
            "grid_auto_rows": null,
            "grid_column": null,
            "grid_gap": null,
            "grid_row": null,
            "grid_template_areas": null,
            "grid_template_columns": null,
            "grid_template_rows": null,
            "height": null,
            "justify_content": null,
            "justify_items": null,
            "left": null,
            "margin": null,
            "max_height": null,
            "max_width": null,
            "min_height": null,
            "min_width": null,
            "object_fit": null,
            "object_position": null,
            "order": null,
            "overflow": null,
            "overflow_x": null,
            "overflow_y": null,
            "padding": null,
            "right": null,
            "top": null,
            "visibility": null,
            "width": null
          }
        },
        "43fc8eaa89f74c82bdf58213a8277153": {
          "model_module": "@jupyter-widgets/base",
          "model_name": "LayoutModel",
          "model_module_version": "1.2.0",
          "state": {
            "_model_module": "@jupyter-widgets/base",
            "_model_module_version": "1.2.0",
            "_model_name": "LayoutModel",
            "_view_count": null,
            "_view_module": "@jupyter-widgets/base",
            "_view_module_version": "1.2.0",
            "_view_name": "LayoutView",
            "align_content": null,
            "align_items": null,
            "align_self": null,
            "border": null,
            "bottom": null,
            "display": null,
            "flex": null,
            "flex_flow": null,
            "grid_area": null,
            "grid_auto_columns": null,
            "grid_auto_flow": null,
            "grid_auto_rows": null,
            "grid_column": null,
            "grid_gap": null,
            "grid_row": null,
            "grid_template_areas": null,
            "grid_template_columns": null,
            "grid_template_rows": null,
            "height": null,
            "justify_content": null,
            "justify_items": null,
            "left": null,
            "margin": null,
            "max_height": null,
            "max_width": null,
            "min_height": null,
            "min_width": null,
            "object_fit": null,
            "object_position": null,
            "order": null,
            "overflow": null,
            "overflow_x": null,
            "overflow_y": null,
            "padding": null,
            "right": null,
            "top": null,
            "visibility": null,
            "width": null
          }
        },
        "c3b07016875c4e6e92335403a8c18cff": {
          "model_module": "@jupyter-widgets/controls",
          "model_name": "DescriptionStyleModel",
          "model_module_version": "1.5.0",
          "state": {
            "_model_module": "@jupyter-widgets/controls",
            "_model_module_version": "1.5.0",
            "_model_name": "DescriptionStyleModel",
            "_view_count": null,
            "_view_module": "@jupyter-widgets/base",
            "_view_module_version": "1.2.0",
            "_view_name": "StyleView",
            "description_width": ""
          }
        },
        "baf32a5fd324476281c3a17d4be27603": {
          "model_module": "@jupyter-widgets/base",
          "model_name": "LayoutModel",
          "model_module_version": "1.2.0",
          "state": {
            "_model_module": "@jupyter-widgets/base",
            "_model_module_version": "1.2.0",
            "_model_name": "LayoutModel",
            "_view_count": null,
            "_view_module": "@jupyter-widgets/base",
            "_view_module_version": "1.2.0",
            "_view_name": "LayoutView",
            "align_content": null,
            "align_items": null,
            "align_self": null,
            "border": null,
            "bottom": null,
            "display": null,
            "flex": null,
            "flex_flow": null,
            "grid_area": null,
            "grid_auto_columns": null,
            "grid_auto_flow": null,
            "grid_auto_rows": null,
            "grid_column": null,
            "grid_gap": null,
            "grid_row": null,
            "grid_template_areas": null,
            "grid_template_columns": null,
            "grid_template_rows": null,
            "height": null,
            "justify_content": null,
            "justify_items": null,
            "left": null,
            "margin": null,
            "max_height": null,
            "max_width": null,
            "min_height": null,
            "min_width": null,
            "object_fit": null,
            "object_position": null,
            "order": null,
            "overflow": null,
            "overflow_x": null,
            "overflow_y": null,
            "padding": null,
            "right": null,
            "top": null,
            "visibility": null,
            "width": null
          }
        },
        "b3784f91245f46ba99be3efa2a9a79f5": {
          "model_module": "@jupyter-widgets/controls",
          "model_name": "ProgressStyleModel",
          "model_module_version": "1.5.0",
          "state": {
            "_model_module": "@jupyter-widgets/controls",
            "_model_module_version": "1.5.0",
            "_model_name": "ProgressStyleModel",
            "_view_count": null,
            "_view_module": "@jupyter-widgets/base",
            "_view_module_version": "1.2.0",
            "_view_name": "StyleView",
            "bar_color": null,
            "description_width": ""
          }
        },
        "c2fb022edd8e4255afc795629c37480b": {
          "model_module": "@jupyter-widgets/base",
          "model_name": "LayoutModel",
          "model_module_version": "1.2.0",
          "state": {
            "_model_module": "@jupyter-widgets/base",
            "_model_module_version": "1.2.0",
            "_model_name": "LayoutModel",
            "_view_count": null,
            "_view_module": "@jupyter-widgets/base",
            "_view_module_version": "1.2.0",
            "_view_name": "LayoutView",
            "align_content": null,
            "align_items": null,
            "align_self": null,
            "border": null,
            "bottom": null,
            "display": null,
            "flex": null,
            "flex_flow": null,
            "grid_area": null,
            "grid_auto_columns": null,
            "grid_auto_flow": null,
            "grid_auto_rows": null,
            "grid_column": null,
            "grid_gap": null,
            "grid_row": null,
            "grid_template_areas": null,
            "grid_template_columns": null,
            "grid_template_rows": null,
            "height": null,
            "justify_content": null,
            "justify_items": null,
            "left": null,
            "margin": null,
            "max_height": null,
            "max_width": null,
            "min_height": null,
            "min_width": null,
            "object_fit": null,
            "object_position": null,
            "order": null,
            "overflow": null,
            "overflow_x": null,
            "overflow_y": null,
            "padding": null,
            "right": null,
            "top": null,
            "visibility": null,
            "width": null
          }
        },
        "92dd1f93889940b58212f3197e4b7d8f": {
          "model_module": "@jupyter-widgets/controls",
          "model_name": "DescriptionStyleModel",
          "model_module_version": "1.5.0",
          "state": {
            "_model_module": "@jupyter-widgets/controls",
            "_model_module_version": "1.5.0",
            "_model_name": "DescriptionStyleModel",
            "_view_count": null,
            "_view_module": "@jupyter-widgets/base",
            "_view_module_version": "1.2.0",
            "_view_name": "StyleView",
            "description_width": ""
          }
        },
        "2d51d87136804effad35e6c31a4bf327": {
          "model_module": "@jupyter-widgets/controls",
          "model_name": "HBoxModel",
          "model_module_version": "1.5.0",
          "state": {
            "_dom_classes": [],
            "_model_module": "@jupyter-widgets/controls",
            "_model_module_version": "1.5.0",
            "_model_name": "HBoxModel",
            "_view_count": null,
            "_view_module": "@jupyter-widgets/controls",
            "_view_module_version": "1.5.0",
            "_view_name": "HBoxView",
            "box_style": "",
            "children": [
              "IPY_MODEL_fa6e6917189048f3bcb6e0a86b81a5ed",
              "IPY_MODEL_c5ab794272f14dd68dc2733a55bb9d04",
              "IPY_MODEL_2f8feab97be149ce9111cba423b8e77f"
            ],
            "layout": "IPY_MODEL_9b79713bcef04c2c991f8a3fbba0bbf3"
          }
        },
        "fa6e6917189048f3bcb6e0a86b81a5ed": {
          "model_module": "@jupyter-widgets/controls",
          "model_name": "HTMLModel",
          "model_module_version": "1.5.0",
          "state": {
            "_dom_classes": [],
            "_model_module": "@jupyter-widgets/controls",
            "_model_module_version": "1.5.0",
            "_model_name": "HTMLModel",
            "_view_count": null,
            "_view_module": "@jupyter-widgets/controls",
            "_view_module_version": "1.5.0",
            "_view_name": "HTMLView",
            "description": "",
            "description_tooltip": null,
            "layout": "IPY_MODEL_7d2b233d581f47b399b741296614d5e8",
            "placeholder": "​",
            "style": "IPY_MODEL_0e82cffe6d6b44ecab58891f91b63e3c",
            "value": "  0%"
          }
        },
        "c5ab794272f14dd68dc2733a55bb9d04": {
          "model_module": "@jupyter-widgets/controls",
          "model_name": "FloatProgressModel",
          "model_module_version": "1.5.0",
          "state": {
            "_dom_classes": [],
            "_model_module": "@jupyter-widgets/controls",
            "_model_module_version": "1.5.0",
            "_model_name": "FloatProgressModel",
            "_view_count": null,
            "_view_module": "@jupyter-widgets/controls",
            "_view_module_version": "1.5.0",
            "_view_name": "ProgressView",
            "bar_style": "danger",
            "description": "",
            "description_tooltip": null,
            "layout": "IPY_MODEL_1c43b1c2c621407c860946bba381261d",
            "max": 100,
            "min": 0,
            "orientation": "horizontal",
            "style": "IPY_MODEL_c4d8a2b6fc7642c59f9376548cc59f06",
            "value": 0
          }
        },
        "2f8feab97be149ce9111cba423b8e77f": {
          "model_module": "@jupyter-widgets/controls",
          "model_name": "HTMLModel",
          "model_module_version": "1.5.0",
          "state": {
            "_dom_classes": [],
            "_model_module": "@jupyter-widgets/controls",
            "_model_module_version": "1.5.0",
            "_model_name": "HTMLModel",
            "_view_count": null,
            "_view_module": "@jupyter-widgets/controls",
            "_view_module_version": "1.5.0",
            "_view_name": "HTMLView",
            "description": "",
            "description_tooltip": null,
            "layout": "IPY_MODEL_e01d45ab07d64d2c88df520ae5193146",
            "placeholder": "​",
            "style": "IPY_MODEL_3951944b1d934ce0955be1b066249ac6",
            "value": " 0/100 [00:00&lt;?, ?it/s]"
          }
        },
        "9b79713bcef04c2c991f8a3fbba0bbf3": {
          "model_module": "@jupyter-widgets/base",
          "model_name": "LayoutModel",
          "model_module_version": "1.2.0",
          "state": {
            "_model_module": "@jupyter-widgets/base",
            "_model_module_version": "1.2.0",
            "_model_name": "LayoutModel",
            "_view_count": null,
            "_view_module": "@jupyter-widgets/base",
            "_view_module_version": "1.2.0",
            "_view_name": "LayoutView",
            "align_content": null,
            "align_items": null,
            "align_self": null,
            "border": null,
            "bottom": null,
            "display": null,
            "flex": null,
            "flex_flow": null,
            "grid_area": null,
            "grid_auto_columns": null,
            "grid_auto_flow": null,
            "grid_auto_rows": null,
            "grid_column": null,
            "grid_gap": null,
            "grid_row": null,
            "grid_template_areas": null,
            "grid_template_columns": null,
            "grid_template_rows": null,
            "height": null,
            "justify_content": null,
            "justify_items": null,
            "left": null,
            "margin": null,
            "max_height": null,
            "max_width": null,
            "min_height": null,
            "min_width": null,
            "object_fit": null,
            "object_position": null,
            "order": null,
            "overflow": null,
            "overflow_x": null,
            "overflow_y": null,
            "padding": null,
            "right": null,
            "top": null,
            "visibility": null,
            "width": null
          }
        },
        "7d2b233d581f47b399b741296614d5e8": {
          "model_module": "@jupyter-widgets/base",
          "model_name": "LayoutModel",
          "model_module_version": "1.2.0",
          "state": {
            "_model_module": "@jupyter-widgets/base",
            "_model_module_version": "1.2.0",
            "_model_name": "LayoutModel",
            "_view_count": null,
            "_view_module": "@jupyter-widgets/base",
            "_view_module_version": "1.2.0",
            "_view_name": "LayoutView",
            "align_content": null,
            "align_items": null,
            "align_self": null,
            "border": null,
            "bottom": null,
            "display": null,
            "flex": null,
            "flex_flow": null,
            "grid_area": null,
            "grid_auto_columns": null,
            "grid_auto_flow": null,
            "grid_auto_rows": null,
            "grid_column": null,
            "grid_gap": null,
            "grid_row": null,
            "grid_template_areas": null,
            "grid_template_columns": null,
            "grid_template_rows": null,
            "height": null,
            "justify_content": null,
            "justify_items": null,
            "left": null,
            "margin": null,
            "max_height": null,
            "max_width": null,
            "min_height": null,
            "min_width": null,
            "object_fit": null,
            "object_position": null,
            "order": null,
            "overflow": null,
            "overflow_x": null,
            "overflow_y": null,
            "padding": null,
            "right": null,
            "top": null,
            "visibility": null,
            "width": null
          }
        },
        "0e82cffe6d6b44ecab58891f91b63e3c": {
          "model_module": "@jupyter-widgets/controls",
          "model_name": "DescriptionStyleModel",
          "model_module_version": "1.5.0",
          "state": {
            "_model_module": "@jupyter-widgets/controls",
            "_model_module_version": "1.5.0",
            "_model_name": "DescriptionStyleModel",
            "_view_count": null,
            "_view_module": "@jupyter-widgets/base",
            "_view_module_version": "1.2.0",
            "_view_name": "StyleView",
            "description_width": ""
          }
        },
        "1c43b1c2c621407c860946bba381261d": {
          "model_module": "@jupyter-widgets/base",
          "model_name": "LayoutModel",
          "model_module_version": "1.2.0",
          "state": {
            "_model_module": "@jupyter-widgets/base",
            "_model_module_version": "1.2.0",
            "_model_name": "LayoutModel",
            "_view_count": null,
            "_view_module": "@jupyter-widgets/base",
            "_view_module_version": "1.2.0",
            "_view_name": "LayoutView",
            "align_content": null,
            "align_items": null,
            "align_self": null,
            "border": null,
            "bottom": null,
            "display": null,
            "flex": null,
            "flex_flow": null,
            "grid_area": null,
            "grid_auto_columns": null,
            "grid_auto_flow": null,
            "grid_auto_rows": null,
            "grid_column": null,
            "grid_gap": null,
            "grid_row": null,
            "grid_template_areas": null,
            "grid_template_columns": null,
            "grid_template_rows": null,
            "height": null,
            "justify_content": null,
            "justify_items": null,
            "left": null,
            "margin": null,
            "max_height": null,
            "max_width": null,
            "min_height": null,
            "min_width": null,
            "object_fit": null,
            "object_position": null,
            "order": null,
            "overflow": null,
            "overflow_x": null,
            "overflow_y": null,
            "padding": null,
            "right": null,
            "top": null,
            "visibility": null,
            "width": null
          }
        },
        "c4d8a2b6fc7642c59f9376548cc59f06": {
          "model_module": "@jupyter-widgets/controls",
          "model_name": "ProgressStyleModel",
          "model_module_version": "1.5.0",
          "state": {
            "_model_module": "@jupyter-widgets/controls",
            "_model_module_version": "1.5.0",
            "_model_name": "ProgressStyleModel",
            "_view_count": null,
            "_view_module": "@jupyter-widgets/base",
            "_view_module_version": "1.2.0",
            "_view_name": "StyleView",
            "bar_color": null,
            "description_width": ""
          }
        },
        "e01d45ab07d64d2c88df520ae5193146": {
          "model_module": "@jupyter-widgets/base",
          "model_name": "LayoutModel",
          "model_module_version": "1.2.0",
          "state": {
            "_model_module": "@jupyter-widgets/base",
            "_model_module_version": "1.2.0",
            "_model_name": "LayoutModel",
            "_view_count": null,
            "_view_module": "@jupyter-widgets/base",
            "_view_module_version": "1.2.0",
            "_view_name": "LayoutView",
            "align_content": null,
            "align_items": null,
            "align_self": null,
            "border": null,
            "bottom": null,
            "display": null,
            "flex": null,
            "flex_flow": null,
            "grid_area": null,
            "grid_auto_columns": null,
            "grid_auto_flow": null,
            "grid_auto_rows": null,
            "grid_column": null,
            "grid_gap": null,
            "grid_row": null,
            "grid_template_areas": null,
            "grid_template_columns": null,
            "grid_template_rows": null,
            "height": null,
            "justify_content": null,
            "justify_items": null,
            "left": null,
            "margin": null,
            "max_height": null,
            "max_width": null,
            "min_height": null,
            "min_width": null,
            "object_fit": null,
            "object_position": null,
            "order": null,
            "overflow": null,
            "overflow_x": null,
            "overflow_y": null,
            "padding": null,
            "right": null,
            "top": null,
            "visibility": null,
            "width": null
          }
        },
        "3951944b1d934ce0955be1b066249ac6": {
          "model_module": "@jupyter-widgets/controls",
          "model_name": "DescriptionStyleModel",
          "model_module_version": "1.5.0",
          "state": {
            "_model_module": "@jupyter-widgets/controls",
            "_model_module_version": "1.5.0",
            "_model_name": "DescriptionStyleModel",
            "_view_count": null,
            "_view_module": "@jupyter-widgets/base",
            "_view_module_version": "1.2.0",
            "_view_name": "StyleView",
            "description_width": ""
          }
        }
      }
    }
  },
  "cells": [
    {
      "cell_type": "markdown",
      "source": [
        "# Черновик по квантизации"
      ],
      "metadata": {
        "id": "GCE28-zZyedw"
      }
    },
    {
      "cell_type": "code",
      "source": [
        "!git clone https://github.com/chuanyangjin/fast-DiT.git"
      ],
      "metadata": {
        "colab": {
          "base_uri": "https://localhost:8080/"
        },
        "id": "CA_cdhEmbrtQ",
        "outputId": "a938c98d-846c-455d-a35a-dae4a77ffae1"
      },
      "execution_count": null,
      "outputs": [
        {
          "output_type": "stream",
          "name": "stdout",
          "text": [
            "Cloning into 'fast-DiT'...\n",
            "remote: Enumerating objects: 67, done.\u001b[K\n",
            "remote: Counting objects: 100% (67/67), done.\u001b[K\n",
            "remote: Compressing objects: 100% (41/41), done.\u001b[K\n",
            "remote: Total 67 (delta 31), reused 60 (delta 26), pack-reused 0\u001b[K\n",
            "Receiving objects: 100% (67/67), 6.37 MiB | 21.74 MiB/s, done.\n",
            "Resolving deltas: 100% (31/31), done.\n"
          ]
        }
      ]
    },
    {
      "cell_type": "code",
      "source": [
        "import DiT, os\n",
        "os.chdir('DiT')\n",
        "os.environ['PYTHONPATH'] = '/env/python:/content/DiT'\n",
        "!pip install diffusers timm --upgrade\n",
        "# DiT imports:\n",
        "import torch\n",
        "from torchvision.utils import save_image\n",
        "from diffusion import create_diffusion #функция из гитхаба\n",
        "from diffusers.models import AutoencoderKL\n",
        "from download import find_model  #функция из гитхаба\n",
        "from models import DiT_XL_2  #функция из гитхаба\n",
        "from PIL import Image\n",
        "from IPython.display import display\n",
        "torch.set_grad_enabled(False)\n",
        "device = \"cuda\" if torch.cuda.is_available() else \"cpu\"\n",
        "if device == \"cpu\":\n",
        "    print(\"GPU not found. Using CPU instead.\")"
      ],
      "metadata": {
        "colab": {
          "base_uri": "https://localhost:8080/"
        },
        "id": "9PzDJ-cIMsND",
        "outputId": "7ddd5b95-486d-4df2-8d3a-24b5f075a143"
      },
      "execution_count": null,
      "outputs": [
        {
          "output_type": "stream",
          "name": "stdout",
          "text": [
            "Collecting diffusers\n",
            "  Downloading diffusers-0.18.2-py3-none-any.whl (1.2 MB)\n",
            "\u001b[2K     \u001b[90m━━━━━━━━━━━━━━━━━━━━━━━━━━━━━━━━━━━━━━━━\u001b[0m \u001b[32m1.2/1.2 MB\u001b[0m \u001b[31m6.8 MB/s\u001b[0m eta \u001b[36m0:00:00\u001b[0m\n",
            "\u001b[?25hCollecting timm\n",
            "  Downloading timm-0.9.2-py3-none-any.whl (2.2 MB)\n",
            "\u001b[2K     \u001b[90m━━━━━━━━━━━━━━━━━━━━━━━━━━━━━━━━━━━━━━━━\u001b[0m \u001b[32m2.2/2.2 MB\u001b[0m \u001b[31m14.6 MB/s\u001b[0m eta \u001b[36m0:00:00\u001b[0m\n",
            "\u001b[?25hRequirement already satisfied: Pillow in /usr/local/lib/python3.10/dist-packages (from diffusers) (8.4.0)\n",
            "Requirement already satisfied: filelock in /usr/local/lib/python3.10/dist-packages (from diffusers) (3.12.2)\n",
            "Collecting huggingface-hub>=0.13.2 (from diffusers)\n",
            "  Downloading huggingface_hub-0.16.4-py3-none-any.whl (268 kB)\n",
            "\u001b[2K     \u001b[90m━━━━━━━━━━━━━━━━━━━━━━━━━━━━━━━━━━━━━━\u001b[0m \u001b[32m268.8/268.8 kB\u001b[0m \u001b[31m14.9 MB/s\u001b[0m eta \u001b[36m0:00:00\u001b[0m\n",
            "\u001b[?25hRequirement already satisfied: importlib-metadata in /usr/lib/python3/dist-packages (from diffusers) (4.6.4)\n",
            "Requirement already satisfied: numpy in /usr/local/lib/python3.10/dist-packages (from diffusers) (1.22.4)\n",
            "Requirement already satisfied: regex!=2019.12.17 in /usr/local/lib/python3.10/dist-packages (from diffusers) (2022.10.31)\n",
            "Requirement already satisfied: requests in /usr/local/lib/python3.10/dist-packages (from diffusers) (2.27.1)\n",
            "Requirement already satisfied: torch>=1.7 in /usr/local/lib/python3.10/dist-packages (from timm) (2.0.1+cu118)\n",
            "Requirement already satisfied: torchvision in /usr/local/lib/python3.10/dist-packages (from timm) (0.15.2+cu118)\n",
            "Requirement already satisfied: pyyaml in /usr/local/lib/python3.10/dist-packages (from timm) (6.0.1)\n",
            "Collecting safetensors (from timm)\n",
            "  Downloading safetensors-0.3.1-cp310-cp310-manylinux_2_17_x86_64.manylinux2014_x86_64.whl (1.3 MB)\n",
            "\u001b[2K     \u001b[90m━━━━━━━━━━━━━━━━━━━━━━━━━━━━━━━━━━━━━━━━\u001b[0m \u001b[32m1.3/1.3 MB\u001b[0m \u001b[31m15.5 MB/s\u001b[0m eta \u001b[36m0:00:00\u001b[0m\n",
            "\u001b[?25hRequirement already satisfied: fsspec in /usr/local/lib/python3.10/dist-packages (from huggingface-hub>=0.13.2->diffusers) (2023.6.0)\n",
            "Requirement already satisfied: tqdm>=4.42.1 in /usr/local/lib/python3.10/dist-packages (from huggingface-hub>=0.13.2->diffusers) (4.65.0)\n",
            "Requirement already satisfied: typing-extensions>=3.7.4.3 in /usr/local/lib/python3.10/dist-packages (from huggingface-hub>=0.13.2->diffusers) (4.7.1)\n",
            "Requirement already satisfied: packaging>=20.9 in /usr/local/lib/python3.10/dist-packages (from huggingface-hub>=0.13.2->diffusers) (23.1)\n",
            "Requirement already satisfied: sympy in /usr/local/lib/python3.10/dist-packages (from torch>=1.7->timm) (1.11.1)\n",
            "Requirement already satisfied: networkx in /usr/local/lib/python3.10/dist-packages (from torch>=1.7->timm) (3.1)\n",
            "Requirement already satisfied: jinja2 in /usr/local/lib/python3.10/dist-packages (from torch>=1.7->timm) (3.1.2)\n",
            "Requirement already satisfied: triton==2.0.0 in /usr/local/lib/python3.10/dist-packages (from torch>=1.7->timm) (2.0.0)\n",
            "Requirement already satisfied: cmake in /usr/local/lib/python3.10/dist-packages (from triton==2.0.0->torch>=1.7->timm) (3.25.2)\n",
            "Requirement already satisfied: lit in /usr/local/lib/python3.10/dist-packages (from triton==2.0.0->torch>=1.7->timm) (16.0.6)\n",
            "Requirement already satisfied: urllib3<1.27,>=1.21.1 in /usr/local/lib/python3.10/dist-packages (from requests->diffusers) (1.26.16)\n",
            "Requirement already satisfied: certifi>=2017.4.17 in /usr/local/lib/python3.10/dist-packages (from requests->diffusers) (2023.5.7)\n",
            "Requirement already satisfied: charset-normalizer~=2.0.0 in /usr/local/lib/python3.10/dist-packages (from requests->diffusers) (2.0.12)\n",
            "Requirement already satisfied: idna<4,>=2.5 in /usr/local/lib/python3.10/dist-packages (from requests->diffusers) (3.4)\n",
            "Requirement already satisfied: MarkupSafe>=2.0 in /usr/local/lib/python3.10/dist-packages (from jinja2->torch>=1.7->timm) (2.1.3)\n",
            "Requirement already satisfied: mpmath>=0.19 in /usr/local/lib/python3.10/dist-packages (from sympy->torch>=1.7->timm) (1.3.0)\n",
            "Installing collected packages: safetensors, huggingface-hub, diffusers, timm\n",
            "Successfully installed diffusers-0.18.2 huggingface-hub-0.16.4 safetensors-0.3.1 timm-0.9.2\n"
          ]
        }
      ]
    },
    {
      "cell_type": "code",
      "source": [],
      "metadata": {
        "id": "XA7Ic5J_b40w"
      },
      "execution_count": null,
      "outputs": []
    },
    {
      "cell_type": "code",
      "source": [
        "image_size = 256 #собакаparam [256, 512]\n",
        "# vae_model = \"stabilityai/sd-vae-ft-ema\" #собакаparam [\"stabilityai/sd-vae-ft-mse\", \"stabilityai/sd-vae-ft-ema\"]\n",
        "latent_size = int(image_size) // 8"
      ],
      "metadata": {
        "id": "oNcdP6zOb4y4"
      },
      "execution_count": null,
      "outputs": []
    },
    {
      "cell_type": "code",
      "source": [
        "model = DiT_XL_2(input_size=latent_size).to(device)"
      ],
      "metadata": {
        "id": "rRJ5M-mxb4xI"
      },
      "execution_count": null,
      "outputs": []
    },
    {
      "cell_type": "code",
      "source": [
        "!cp /content/drive/MyDrive/Colab\\ Notebooks/q_dit_xl_256.pt /content/"
      ],
      "metadata": {
        "id": "ynipYLp3-YX5"
      },
      "execution_count": null,
      "outputs": []
    },
    {
      "cell_type": "code",
      "source": [
        "# есть свои веса\n",
        "image_size = 256\n",
        "state_dict = find_model(f\"/content/q_dit_xl_256.pt\")"
      ],
      "metadata": {
        "colab": {
          "base_uri": "https://localhost:8080/"
        },
        "id": "-UVcS8sm-rQI",
        "outputId": "4ffcf035-2ad5-40a1-f74b-aafba0befabd"
      },
      "execution_count": null,
      "outputs": [
        {
          "output_type": "stream",
          "name": "stderr",
          "text": [
            "/usr/local/lib/python3.10/dist-packages/torch/_utils.py:314: UserWarning: TypedStorage is deprecated. It will be removed in the future and UntypedStorage will be the only storage class. This should only matter to you if you are using storages directly.  To access UntypedStorage directly, use tensor.untyped_storage() instead of tensor.storage()\n",
            "  device=storage.device,\n"
          ]
        }
      ]
    },
    {
      "cell_type": "code",
      "source": [
        "# #если нет своих весов\n",
        "# image_size = 256\n",
        "# state_dict = find_model(f\"DiT-XL-2-{image_size}x{image_size}.pt\")"
      ],
      "metadata": {
        "id": "olsvyqy_bvTw"
      },
      "execution_count": null,
      "outputs": []
    },
    {
      "cell_type": "code",
      "source": [
        "model.load_state_dict(state_dict)\n",
        "# model.eval() # important!"
      ],
      "metadata": {
        "colab": {
          "base_uri": "https://localhost:8080/",
          "height": 1000
        },
        "id": "zDCK1tticZpr",
        "outputId": "9252e785-0fb7-4e67-f87a-50de459fec48"
      },
      "execution_count": null,
      "outputs": [
        {
          "output_type": "error",
          "ename": "RuntimeError",
          "evalue": "ignored",
          "traceback": [
            "\u001b[0;31m---------------------------------------------------------------------------\u001b[0m",
            "\u001b[0;31mRuntimeError\u001b[0m                              Traceback (most recent call last)",
            "\u001b[0;32m<ipython-input-8-0459ba0e38f0>\u001b[0m in \u001b[0;36m<cell line: 1>\u001b[0;34m()\u001b[0m\n\u001b[0;32m----> 1\u001b[0;31m \u001b[0mmodel\u001b[0m\u001b[0;34m.\u001b[0m\u001b[0mload_state_dict\u001b[0m\u001b[0;34m(\u001b[0m\u001b[0mstate_dict\u001b[0m\u001b[0;34m)\u001b[0m\u001b[0;34m\u001b[0m\u001b[0;34m\u001b[0m\u001b[0m\n\u001b[0m\u001b[1;32m      2\u001b[0m \u001b[0;31m# model.eval() # important!\u001b[0m\u001b[0;34m\u001b[0m\u001b[0;34m\u001b[0m\u001b[0m\n",
            "\u001b[0;32m/usr/local/lib/python3.10/dist-packages/torch/nn/modules/module.py\u001b[0m in \u001b[0;36mload_state_dict\u001b[0;34m(self, state_dict, strict)\u001b[0m\n\u001b[1;32m   2039\u001b[0m \u001b[0;34m\u001b[0m\u001b[0m\n\u001b[1;32m   2040\u001b[0m         \u001b[0;32mif\u001b[0m \u001b[0mlen\u001b[0m\u001b[0;34m(\u001b[0m\u001b[0merror_msgs\u001b[0m\u001b[0;34m)\u001b[0m \u001b[0;34m>\u001b[0m \u001b[0;36m0\u001b[0m\u001b[0;34m:\u001b[0m\u001b[0;34m\u001b[0m\u001b[0;34m\u001b[0m\u001b[0m\n\u001b[0;32m-> 2041\u001b[0;31m             raise RuntimeError('Error(s) in loading state_dict for {}:\\n\\t{}'.format(\n\u001b[0m\u001b[1;32m   2042\u001b[0m                                self.__class__.__name__, \"\\n\\t\".join(error_msgs)))\n\u001b[1;32m   2043\u001b[0m         \u001b[0;32mreturn\u001b[0m \u001b[0m_IncompatibleKeys\u001b[0m\u001b[0;34m(\u001b[0m\u001b[0mmissing_keys\u001b[0m\u001b[0;34m,\u001b[0m \u001b[0munexpected_keys\u001b[0m\u001b[0;34m)\u001b[0m\u001b[0;34m\u001b[0m\u001b[0;34m\u001b[0m\u001b[0m\n",
            "\u001b[0;31mRuntimeError\u001b[0m: Error(s) in loading state_dict for DiT:\n\tMissing key(s) in state_dict: \"t_embedder.mlp.0.weight\", \"t_embedder.mlp.0.bias\", \"t_embedder.mlp.2.weight\", \"t_embedder.mlp.2.bias\", \"blocks.0.attn.qkv.weight\", \"blocks.0.attn.qkv.bias\", \"blocks.0.attn.proj.weight\", \"blocks.0.attn.proj.bias\", \"blocks.0.mlp.fc1.weight\", \"blocks.0.mlp.fc1.bias\", \"blocks.0.mlp.fc2.weight\", \"blocks.0.mlp.fc2.bias\", \"blocks.0.adaLN_modulation.1.weight\", \"blocks.0.adaLN_modulation.1.bias\", \"blocks.1.attn.qkv.weight\", \"blocks.1.attn.qkv.bias\", \"blocks.1.attn.proj.weight\", \"blocks.1.attn.proj.bias\", \"blocks.1.mlp.fc1.weight\", \"blocks.1.mlp.fc1.bias\", \"blocks.1.mlp.fc2.weight\", \"blocks.1.mlp.fc2.bias\", \"blocks.1.adaLN_modulation.1.weight\", \"blocks.1.adaLN_modulation.1.bias\", \"blocks.2.attn.qkv.weight\", \"blocks.2.attn.qkv.bias\", \"blocks.2.attn.proj.weight\", \"blocks.2.attn.proj.bias\", \"blocks.2.mlp.fc1.weight\", \"blocks.2.mlp.fc1.bias\", \"blocks.2.mlp.fc2.weight\", \"blocks.2.mlp.fc2.bias\", \"blocks.2.adaLN_modulation.1.weight\", \"blocks.2.adaLN_modulation.1.bias\", \"blocks.3.attn.qkv.weight\", \"blocks.3.attn.qkv.bias\", \"blocks.3.attn.proj.weight\", \"blocks.3.attn.proj.bias\", \"blocks.3.mlp.fc1.weight\", \"blocks.3.mlp.fc1.bias\", \"blocks.3.mlp.fc2.weight\", \"blocks.3.mlp.fc2.bias\", \"blocks.3.adaLN_modulation.1.weight\", \"blocks.3.adaLN_modulation.1.bias\", \"blocks.4.attn.qkv.weight\", \"blocks.4.attn.qkv.bias\", \"blocks.4.attn.proj.weight\", \"blocks.4.attn.proj.bias\", \"blocks.4.mlp.fc1.weight\", \"blocks.4.mlp.fc1.bias\", \"blocks.4.mlp.fc2.weight\", \"blocks.4.mlp.fc2.bia...\n\tUnexpected key(s) in state_dict: \"t_embedder.mlp.0.scale\", \"t_embedder.mlp.0.zero_point\", \"t_embedder.mlp.0._packed_params.dtype\", \"t_embedder.mlp.0._packed_params._packed_params\", \"t_embedder.mlp.2.scale\", \"t_embedder.mlp.2.zero_point\", \"t_embedder.mlp.2._packed_params.dtype\", \"t_embedder.mlp.2._packed_params._packed_params\", \"blocks.0.attn.qkv.scale\", \"blocks.0.attn.qkv.zero_point\", \"blocks.0.attn.qkv._packed_params.dtype\", \"blocks.0.attn.qkv._packed_params._packed_params\", \"blocks.0.attn.proj.scale\", \"blocks.0.attn.proj.zero_point\", \"blocks.0.attn.proj._packed_params.dtype\", \"blocks.0.attn.proj._packed_params._packed_params\", \"blocks.0.mlp.fc1.scale\", \"blocks.0.mlp.fc1.zero_point\", \"blocks.0.mlp.fc1._packed_params.dtype\", \"blocks.0.mlp.fc1._packed_params._packed_params\", \"blocks.0.mlp.fc2.scale\", \"blocks.0.mlp.fc2.zero_point\", \"blocks.0.mlp.fc2._packed_params.dtype\", \"blocks.0.mlp.fc2._packed_params._packed_params\", \"blocks.0.adaLN_modulation.1.scale\", \"blocks.0.adaLN_modulation.1.zero_point\", \"blocks.0.adaLN_modulation.1._packed_params.dtype\", \"blocks.0.adaLN_modulation.1._packed_params._packed_params\", \"blocks.1.attn.qkv.scale\", \"blocks.1.attn.qkv.zero_point\", \"blocks.1.attn.qkv._packed_params.dtype\", \"blocks.1.attn.qkv._packed_params._packed_params\", \"blocks.1.attn.proj.scale\", \"blocks.1.attn.proj.zero_point\", \"blocks.1.attn.proj._packed_params.dtype\", \"blocks.1.attn.proj._packed_params._packed_params\", \"blocks.1.mlp.fc1.scale\", \"blocks.1.mlp.fc1.zero_point\", \"block..."
          ]
        }
      ]
    },
    {
      "cell_type": "code",
      "source": [
        "from torch import nn"
      ],
      "metadata": {
        "id": "8qdWM9dLqHYv"
      },
      "execution_count": null,
      "outputs": []
    },
    {
      "cell_type": "code",
      "source": [
        "quantized_model = torch.quantization.quantize_dynamic(\n",
        "    model, {nn.Linear}, dtype=torch.qint8\n",
        ")\n"
      ],
      "metadata": {
        "id": "XUCWCo0VkpLO"
      },
      "execution_count": null,
      "outputs": []
    },
    {
      "cell_type": "code",
      "source": [
        "quantized_model"
      ],
      "metadata": {
        "colab": {
          "base_uri": "https://localhost:8080/"
        },
        "id": "r7zLmBDXj4wL",
        "outputId": "cb5c46ab-de40-4379-fb93-b0e2d0748ed4"
      },
      "execution_count": null,
      "outputs": [
        {
          "output_type": "execute_result",
          "data": {
            "text/plain": [
              "DiT(\n",
              "  (x_embedder): PatchEmbed(\n",
              "    (proj): Conv2d(4, 1152, kernel_size=(2, 2), stride=(2, 2))\n",
              "    (norm): Identity()\n",
              "  )\n",
              "  (t_embedder): TimestepEmbedder(\n",
              "    (mlp): Sequential(\n",
              "      (0): DynamicQuantizedLinear(in_features=256, out_features=1152, dtype=torch.qint8, qscheme=torch.per_tensor_affine)\n",
              "      (1): SiLU()\n",
              "      (2): DynamicQuantizedLinear(in_features=1152, out_features=1152, dtype=torch.qint8, qscheme=torch.per_tensor_affine)\n",
              "    )\n",
              "  )\n",
              "  (y_embedder): LabelEmbedder(\n",
              "    (embedding_table): Embedding(1001, 1152)\n",
              "  )\n",
              "  (blocks): ModuleList(\n",
              "    (0-27): 28 x DiTBlock(\n",
              "      (norm1): LayerNorm((1152,), eps=1e-06, elementwise_affine=False)\n",
              "      (attn): Attention(\n",
              "        (qkv): DynamicQuantizedLinear(in_features=1152, out_features=3456, dtype=torch.qint8, qscheme=torch.per_tensor_affine)\n",
              "        (q_norm): Identity()\n",
              "        (k_norm): Identity()\n",
              "        (attn_drop): Dropout(p=0.0, inplace=False)\n",
              "        (proj): DynamicQuantizedLinear(in_features=1152, out_features=1152, dtype=torch.qint8, qscheme=torch.per_tensor_affine)\n",
              "        (proj_drop): Dropout(p=0.0, inplace=False)\n",
              "      )\n",
              "      (norm2): LayerNorm((1152,), eps=1e-06, elementwise_affine=False)\n",
              "      (mlp): Mlp(\n",
              "        (fc1): DynamicQuantizedLinear(in_features=1152, out_features=4608, dtype=torch.qint8, qscheme=torch.per_tensor_affine)\n",
              "        (act): GELU(approximate='tanh')\n",
              "        (drop1): Dropout(p=0, inplace=False)\n",
              "        (norm): Identity()\n",
              "        (fc2): DynamicQuantizedLinear(in_features=4608, out_features=1152, dtype=torch.qint8, qscheme=torch.per_tensor_affine)\n",
              "        (drop2): Dropout(p=0, inplace=False)\n",
              "      )\n",
              "      (adaLN_modulation): Sequential(\n",
              "        (0): SiLU()\n",
              "        (1): DynamicQuantizedLinear(in_features=1152, out_features=6912, dtype=torch.qint8, qscheme=torch.per_tensor_affine)\n",
              "      )\n",
              "    )\n",
              "  )\n",
              "  (final_layer): FinalLayer(\n",
              "    (norm_final): LayerNorm((1152,), eps=1e-06, elementwise_affine=False)\n",
              "    (linear): DynamicQuantizedLinear(in_features=1152, out_features=32, dtype=torch.qint8, qscheme=torch.per_tensor_affine)\n",
              "    (adaLN_modulation): Sequential(\n",
              "      (0): SiLU()\n",
              "      (1): DynamicQuantizedLinear(in_features=1152, out_features=2304, dtype=torch.qint8, qscheme=torch.per_tensor_affine)\n",
              "    )\n",
              "  )\n",
              ")"
            ]
          },
          "metadata": {},
          "execution_count": 27
        }
      ]
    },
    {
      "cell_type": "code",
      "source": [
        "import os\n",
        "\n",
        "# save the model and check the model size\n",
        "def print_size_of_model(model, label=\"\"):\n",
        "    torch.save(model.state_dict(), \"temp.p\")\n",
        "    size=os.path.getsize(\"temp.p\")\n",
        "    print(\"model: \",label,' \\t','Size (MB):', size/1e6)\n",
        "    os.remove('temp.p')\n",
        "    return size"
      ],
      "metadata": {
        "id": "HuYN0jIXqNwh"
      },
      "execution_count": null,
      "outputs": []
    },
    {
      "cell_type": "code",
      "source": [
        "f=print_size_of_model(model,\"fp32\")"
      ],
      "metadata": {
        "colab": {
          "base_uri": "https://localhost:8080/"
        },
        "id": "PkUQxRoUqgcw",
        "outputId": "7248c898-a8e0-40c3-e597-e6a365d5df5e"
      },
      "execution_count": null,
      "outputs": [
        {
          "output_type": "stream",
          "name": "stdout",
          "text": [
            "model:  fp32  \t Size (MB): 2700.611783\n"
          ]
        }
      ]
    },
    {
      "cell_type": "code",
      "source": [
        "q=print_size_of_model(quantized_model,\"int8\")"
      ],
      "metadata": {
        "colab": {
          "base_uri": "https://localhost:8080/"
        },
        "id": "P3YCX-Qnqdar",
        "outputId": "049afa52-4585-4e90-842c-7167447a0aa6"
      },
      "execution_count": null,
      "outputs": [
        {
          "output_type": "stream",
          "name": "stdout",
          "text": [
            "model:  int8  \t Size (MB): 681.198439\n"
          ]
        }
      ]
    },
    {
      "cell_type": "code",
      "source": [
        "print(\"{0:.2f} times smaller\".format(2700611783/q))"
      ],
      "metadata": {
        "colab": {
          "base_uri": "https://localhost:8080/"
        },
        "id": "njCwrQ35kpHw",
        "outputId": "6c1b0442-8642-4244-edae-03cb752ce86b"
      },
      "execution_count": null,
      "outputs": [
        {
          "output_type": "stream",
          "name": "stdout",
          "text": [
            "3.96 times smaller\n"
          ]
        }
      ]
    },
    {
      "cell_type": "code",
      "source": [],
      "metadata": {
        "id": "unyabQmokpGE"
      },
      "execution_count": null,
      "outputs": []
    },
    {
      "cell_type": "code",
      "source": [
        "vae_model = \"stabilityai/sd-vae-ft-ema\"\n",
        "vae = AutoencoderKL.from_pretrained(vae_model).to(device)"
      ],
      "metadata": {
        "colab": {
          "base_uri": "https://localhost:8080/",
          "height": 244,
          "referenced_widgets": [
            "d2edaa8d6e0743a4abfe5274055d92c1",
            "7c62a62ee99b499ab91fd4026f0a7109",
            "891c570c347244f7be292ac06202f599",
            "241981e91a2c486199b440c84ecc727b",
            "dac228056c754579801a022c4156901a",
            "09b878408ba34ab7a48ddf2297b3e4be",
            "92a1f1c904d54e9f99c830c2306929e9",
            "73632c422c0d41dda1bd6f58cb8299aa",
            "c57b0f6a690b41e1b941499c5b557277",
            "ceca15cf836e4d1e9b0d0501c33a66b8",
            "f4cadbe4d5514debbf53004cbe80549a",
            "9635247af51a483dbbf2fb6361f74f83",
            "1ce9bfe5e8734ea0a27bbed7ae540d2f",
            "5e4fb02a341a497caa67c01d0436868b",
            "13f118a9ab5d458c9cc5d7191e16a1db",
            "a597746031044e94aba83d62cff5bc1f",
            "43fc8eaa89f74c82bdf58213a8277153",
            "c3b07016875c4e6e92335403a8c18cff",
            "baf32a5fd324476281c3a17d4be27603",
            "b3784f91245f46ba99be3efa2a9a79f5",
            "c2fb022edd8e4255afc795629c37480b",
            "92dd1f93889940b58212f3197e4b7d8f"
          ]
        },
        "id": "6-tFY_4Pnf5l",
        "outputId": "2877a189-80ce-429a-ecc2-89d7ee3e67e2"
      },
      "execution_count": null,
      "outputs": [
        {
          "output_type": "stream",
          "name": "stderr",
          "text": [
            "Cannot initialize model with low cpu memory usage because `accelerate` was not found in the environment. Defaulting to `low_cpu_mem_usage=False`. It is strongly recommended to install `accelerate` for faster and less memory-intense model loading. You can do so with: \n",
            "```\n",
            "pip install accelerate\n",
            "```\n",
            ".\n"
          ]
        },
        {
          "output_type": "display_data",
          "data": {
            "text/plain": [
              "Downloading (…)lve/main/config.json:   0%|          | 0.00/547 [00:00<?, ?B/s]"
            ],
            "application/vnd.jupyter.widget-view+json": {
              "version_major": 2,
              "version_minor": 0,
              "model_id": "d2edaa8d6e0743a4abfe5274055d92c1"
            }
          },
          "metadata": {}
        },
        {
          "output_type": "display_data",
          "data": {
            "text/plain": [
              "Downloading (…)ch_model.safetensors:   0%|          | 0.00/335M [00:00<?, ?B/s]"
            ],
            "application/vnd.jupyter.widget-view+json": {
              "version_major": 2,
              "version_minor": 0,
              "model_id": "9635247af51a483dbbf2fb6361f74f83"
            }
          },
          "metadata": {}
        }
      ]
    },
    {
      "cell_type": "code",
      "source": [
        "device2 = 'cpu'"
      ],
      "metadata": {
        "id": "rXkxCwA-u3nu"
      },
      "execution_count": null,
      "outputs": []
    },
    {
      "cell_type": "code",
      "source": [
        "# quantized_model.to(device2)"
      ],
      "metadata": {
        "id": "hTqg3dQTwDgX"
      },
      "execution_count": null,
      "outputs": []
    },
    {
      "cell_type": "code",
      "source": [
        "# quantized_model.eval()"
      ],
      "metadata": {
        "id": "b05oIolGwfqp"
      },
      "execution_count": null,
      "outputs": []
    },
    {
      "cell_type": "code",
      "source": [
        "quantized_model = quantized_model.cuda()"
      ],
      "metadata": {
        "id": "ciZ9yBxYLiFS"
      },
      "execution_count": null,
      "outputs": []
    },
    {
      "cell_type": "code",
      "source": [
        "quantized_model.eval()"
      ],
      "metadata": {
        "colab": {
          "base_uri": "https://localhost:8080/"
        },
        "id": "nedU6Bn3MtGK",
        "outputId": "1039e3b0-dc4c-4027-9907-b4e0dd360850"
      },
      "execution_count": null,
      "outputs": [
        {
          "output_type": "execute_result",
          "data": {
            "text/plain": [
              "DiT(\n",
              "  (x_embedder): PatchEmbed(\n",
              "    (proj): Conv2d(4, 1152, kernel_size=(2, 2), stride=(2, 2))\n",
              "    (norm): Identity()\n",
              "  )\n",
              "  (t_embedder): TimestepEmbedder(\n",
              "    (mlp): Sequential(\n",
              "      (0): DynamicQuantizedLinear(in_features=256, out_features=1152, dtype=torch.qint8, qscheme=torch.per_tensor_affine)\n",
              "      (1): SiLU()\n",
              "      (2): DynamicQuantizedLinear(in_features=1152, out_features=1152, dtype=torch.qint8, qscheme=torch.per_tensor_affine)\n",
              "    )\n",
              "  )\n",
              "  (y_embedder): LabelEmbedder(\n",
              "    (embedding_table): Embedding(1001, 1152)\n",
              "  )\n",
              "  (blocks): ModuleList(\n",
              "    (0-27): 28 x DiTBlock(\n",
              "      (norm1): LayerNorm((1152,), eps=1e-06, elementwise_affine=False)\n",
              "      (attn): Attention(\n",
              "        (qkv): DynamicQuantizedLinear(in_features=1152, out_features=3456, dtype=torch.qint8, qscheme=torch.per_tensor_affine)\n",
              "        (q_norm): Identity()\n",
              "        (k_norm): Identity()\n",
              "        (attn_drop): Dropout(p=0.0, inplace=False)\n",
              "        (proj): DynamicQuantizedLinear(in_features=1152, out_features=1152, dtype=torch.qint8, qscheme=torch.per_tensor_affine)\n",
              "        (proj_drop): Dropout(p=0.0, inplace=False)\n",
              "      )\n",
              "      (norm2): LayerNorm((1152,), eps=1e-06, elementwise_affine=False)\n",
              "      (mlp): Mlp(\n",
              "        (fc1): DynamicQuantizedLinear(in_features=1152, out_features=4608, dtype=torch.qint8, qscheme=torch.per_tensor_affine)\n",
              "        (act): GELU(approximate='tanh')\n",
              "        (drop1): Dropout(p=0, inplace=False)\n",
              "        (norm): Identity()\n",
              "        (fc2): DynamicQuantizedLinear(in_features=4608, out_features=1152, dtype=torch.qint8, qscheme=torch.per_tensor_affine)\n",
              "        (drop2): Dropout(p=0, inplace=False)\n",
              "      )\n",
              "      (adaLN_modulation): Sequential(\n",
              "        (0): SiLU()\n",
              "        (1): DynamicQuantizedLinear(in_features=1152, out_features=6912, dtype=torch.qint8, qscheme=torch.per_tensor_affine)\n",
              "      )\n",
              "    )\n",
              "  )\n",
              "  (final_layer): FinalLayer(\n",
              "    (norm_final): LayerNorm((1152,), eps=1e-06, elementwise_affine=False)\n",
              "    (linear): DynamicQuantizedLinear(in_features=1152, out_features=32, dtype=torch.qint8, qscheme=torch.per_tensor_affine)\n",
              "    (adaLN_modulation): Sequential(\n",
              "      (0): SiLU()\n",
              "      (1): DynamicQuantizedLinear(in_features=1152, out_features=2304, dtype=torch.qint8, qscheme=torch.per_tensor_affine)\n",
              "    )\n",
              "  )\n",
              ")"
            ]
          },
          "metadata": {},
          "execution_count": 26
        }
      ]
    },
    {
      "cell_type": "code",
      "source": [
        "# Конвертирование обратно в формат с плавающей запятой (FP32)\n",
        "quantized_model = quantized_model.to(torch.float32)\n",
        "\n",
        "# Отправка на устройство CUDA\n",
        "device = torch.device(\"cuda\")\n",
        "quantized_model = quantized_model.to(device)\n"
      ],
      "metadata": {
        "id": "5Q4ZbRcnWMFA"
      },
      "execution_count": null,
      "outputs": []
    },
    {
      "cell_type": "code",
      "source": [],
      "metadata": {
        "id": "8twDJIkgWMDt"
      },
      "execution_count": null,
      "outputs": []
    },
    {
      "cell_type": "code",
      "source": [
        "seed = 0 #собparam {type:\"number\"}\n",
        "torch.manual_seed(seed)\n",
        "num_sampling_steps = 100 #собparam {type:\"slider\", min:0, max:1000, step:1}\n",
        "cfg_scale = 4 #собparam {type:\"slider\", min:1, max:10, step:0.1}\n",
        "class_labels = 0, #собparam {type:\"raw\"}\n",
        "samples_per_row = 4 #собparam {type:\"number\"}\n",
        "\n",
        "# Create diffusion object:\n",
        "diffusion = create_diffusion(str(num_sampling_steps))\n",
        "\n",
        "# Create sampling noise:\n",
        "n = len(class_labels)\n",
        "z = torch.randn(n, 4, latent_size, latent_size, device=device)\n",
        "y = torch.tensor(class_labels, device=device)\n",
        "\n",
        "# Setup classifier-free guidance:\n",
        "z = torch.cat([z, z], 0)\n",
        "y_null = torch.tensor([1000] * n, device=device)\n",
        "y = torch.cat([y, y_null], 0)\n",
        "model_kwargs = dict(y=y, cfg_scale=cfg_scale)\n",
        "\n",
        "\n",
        "samples = diffusion.p_sample_loop(\n",
        "    # Generate samples from the model\n",
        "    quantized_model.forward_with_cfg, z.shape, z, clip_denoised=False,\n",
        " #   '''\n",
        " #   # model.forward_with_cfg:\n",
        " #   Forward pass of DiT, but also batches the unconditional forward\n",
        " #   pass for classifier-free guidance.\n",
        "\n",
        " #   # z.shape\n",
        " #   torch.Size([8, 4, 32, 32])\n",
        "  #  '''\n",
        "    model_kwargs=model_kwargs, progress=True, device=device\n",
        ")\n",
        "\n",
        "samples, _ = samples.chunk(2, dim=0)  # Remove null class samples"
      ],
      "metadata": {
        "colab": {
          "base_uri": "https://localhost:8080/",
          "height": 1000,
          "referenced_widgets": [
            "2d51d87136804effad35e6c31a4bf327",
            "fa6e6917189048f3bcb6e0a86b81a5ed",
            "c5ab794272f14dd68dc2733a55bb9d04",
            "2f8feab97be149ce9111cba423b8e77f",
            "9b79713bcef04c2c991f8a3fbba0bbf3",
            "7d2b233d581f47b399b741296614d5e8",
            "0e82cffe6d6b44ecab58891f91b63e3c",
            "1c43b1c2c621407c860946bba381261d",
            "c4d8a2b6fc7642c59f9376548cc59f06",
            "e01d45ab07d64d2c88df520ae5193146",
            "3951944b1d934ce0955be1b066249ac6"
          ]
        },
        "id": "tgDfkfBLmj0C",
        "outputId": "1546489c-d83b-4948-853c-b7e0c2136851"
      },
      "execution_count": null,
      "outputs": [
        {
          "output_type": "display_data",
          "data": {
            "text/plain": [
              "  0%|          | 0/100 [00:00<?, ?it/s]"
            ],
            "application/vnd.jupyter.widget-view+json": {
              "version_major": 2,
              "version_minor": 0,
              "model_id": "2d51d87136804effad35e6c31a4bf327"
            }
          },
          "metadata": {}
        },
        {
          "output_type": "error",
          "ename": "NotImplementedError",
          "evalue": "ignored",
          "traceback": [
            "\u001b[0;31m---------------------------------------------------------------------------\u001b[0m",
            "\u001b[0;31mNotImplementedError\u001b[0m                       Traceback (most recent call last)",
            "\u001b[0;32m<ipython-input-14-40e4a4b83db0>\u001b[0m in \u001b[0;36m<cell line: 23>\u001b[0;34m()\u001b[0m\n\u001b[1;32m     21\u001b[0m \u001b[0;34m\u001b[0m\u001b[0m\n\u001b[1;32m     22\u001b[0m \u001b[0;34m\u001b[0m\u001b[0m\n\u001b[0;32m---> 23\u001b[0;31m samples = diffusion.p_sample_loop(\n\u001b[0m\u001b[1;32m     24\u001b[0m     \u001b[0;31m# Generate samples from the model\u001b[0m\u001b[0;34m\u001b[0m\u001b[0;34m\u001b[0m\u001b[0m\n\u001b[1;32m     25\u001b[0m     \u001b[0mquantized_model\u001b[0m\u001b[0;34m.\u001b[0m\u001b[0mforward_with_cfg\u001b[0m\u001b[0;34m,\u001b[0m \u001b[0mz\u001b[0m\u001b[0;34m.\u001b[0m\u001b[0mshape\u001b[0m\u001b[0;34m,\u001b[0m \u001b[0mz\u001b[0m\u001b[0;34m,\u001b[0m \u001b[0mclip_denoised\u001b[0m\u001b[0;34m=\u001b[0m\u001b[0;32mFalse\u001b[0m\u001b[0;34m,\u001b[0m\u001b[0;34m\u001b[0m\u001b[0;34m\u001b[0m\u001b[0m\n",
            "\u001b[0;32m/content/DiT/diffusion/gaussian_diffusion.py\u001b[0m in \u001b[0;36mp_sample_loop\u001b[0;34m(self, model, shape, noise, clip_denoised, denoised_fn, cond_fn, model_kwargs, device, progress)\u001b[0m\n\u001b[1;32m    448\u001b[0m         \"\"\"\n\u001b[1;32m    449\u001b[0m         \u001b[0mfinal\u001b[0m \u001b[0;34m=\u001b[0m \u001b[0;32mNone\u001b[0m\u001b[0;34m\u001b[0m\u001b[0;34m\u001b[0m\u001b[0m\n\u001b[0;32m--> 450\u001b[0;31m         for sample in self.p_sample_loop_progressive(\n\u001b[0m\u001b[1;32m    451\u001b[0m             \u001b[0mmodel\u001b[0m\u001b[0;34m,\u001b[0m\u001b[0;34m\u001b[0m\u001b[0;34m\u001b[0m\u001b[0m\n\u001b[1;32m    452\u001b[0m             \u001b[0mshape\u001b[0m\u001b[0;34m,\u001b[0m\u001b[0;34m\u001b[0m\u001b[0;34m\u001b[0m\u001b[0m\n",
            "\u001b[0;32m/content/DiT/diffusion/gaussian_diffusion.py\u001b[0m in \u001b[0;36mp_sample_loop_progressive\u001b[0;34m(self, model, shape, noise, clip_denoised, denoised_fn, cond_fn, model_kwargs, device, progress)\u001b[0m\n\u001b[1;32m    499\u001b[0m             \u001b[0mt\u001b[0m \u001b[0;34m=\u001b[0m \u001b[0mth\u001b[0m\u001b[0;34m.\u001b[0m\u001b[0mtensor\u001b[0m\u001b[0;34m(\u001b[0m\u001b[0;34m[\u001b[0m\u001b[0mi\u001b[0m\u001b[0;34m]\u001b[0m \u001b[0;34m*\u001b[0m \u001b[0mshape\u001b[0m\u001b[0;34m[\u001b[0m\u001b[0;36m0\u001b[0m\u001b[0;34m]\u001b[0m\u001b[0;34m,\u001b[0m \u001b[0mdevice\u001b[0m\u001b[0;34m=\u001b[0m\u001b[0mdevice\u001b[0m\u001b[0;34m)\u001b[0m\u001b[0;34m\u001b[0m\u001b[0;34m\u001b[0m\u001b[0m\n\u001b[1;32m    500\u001b[0m             \u001b[0;32mwith\u001b[0m \u001b[0mth\u001b[0m\u001b[0;34m.\u001b[0m\u001b[0mno_grad\u001b[0m\u001b[0;34m(\u001b[0m\u001b[0;34m)\u001b[0m\u001b[0;34m:\u001b[0m\u001b[0;34m\u001b[0m\u001b[0;34m\u001b[0m\u001b[0m\n\u001b[0;32m--> 501\u001b[0;31m                 out = self.p_sample(\n\u001b[0m\u001b[1;32m    502\u001b[0m                     \u001b[0mmodel\u001b[0m\u001b[0;34m,\u001b[0m\u001b[0;34m\u001b[0m\u001b[0;34m\u001b[0m\u001b[0m\n\u001b[1;32m    503\u001b[0m                     \u001b[0mimg\u001b[0m\u001b[0;34m,\u001b[0m\u001b[0;34m\u001b[0m\u001b[0;34m\u001b[0m\u001b[0m\n",
            "\u001b[0;32m/content/DiT/diffusion/gaussian_diffusion.py\u001b[0m in \u001b[0;36mp_sample\u001b[0;34m(self, model, x, t, clip_denoised, denoised_fn, cond_fn, model_kwargs)\u001b[0m\n\u001b[1;32m    400\u001b[0m                  \u001b[0;34m-\u001b[0m \u001b[0;34m'pred_xstart'\u001b[0m\u001b[0;34m:\u001b[0m \u001b[0ma\u001b[0m \u001b[0mprediction\u001b[0m \u001b[0mof\u001b[0m \u001b[0mx_0\u001b[0m\u001b[0;34m.\u001b[0m\u001b[0;34m\u001b[0m\u001b[0;34m\u001b[0m\u001b[0m\n\u001b[1;32m    401\u001b[0m         \"\"\"\n\u001b[0;32m--> 402\u001b[0;31m         out = self.p_mean_variance(\n\u001b[0m\u001b[1;32m    403\u001b[0m             \u001b[0mmodel\u001b[0m\u001b[0;34m,\u001b[0m\u001b[0;34m\u001b[0m\u001b[0;34m\u001b[0m\u001b[0m\n\u001b[1;32m    404\u001b[0m             \u001b[0mx\u001b[0m\u001b[0;34m,\u001b[0m\u001b[0;34m\u001b[0m\u001b[0;34m\u001b[0m\u001b[0m\n",
            "\u001b[0;32m/content/DiT/diffusion/respace.py\u001b[0m in \u001b[0;36mp_mean_variance\u001b[0;34m(self, model, *args, **kwargs)\u001b[0m\n\u001b[1;32m     90\u001b[0m         \u001b[0mself\u001b[0m\u001b[0;34m,\u001b[0m \u001b[0mmodel\u001b[0m\u001b[0;34m,\u001b[0m \u001b[0;34m*\u001b[0m\u001b[0margs\u001b[0m\u001b[0;34m,\u001b[0m \u001b[0;34m**\u001b[0m\u001b[0mkwargs\u001b[0m\u001b[0;34m\u001b[0m\u001b[0;34m\u001b[0m\u001b[0m\n\u001b[1;32m     91\u001b[0m     ):  # pylint: disable=signature-differs\n\u001b[0;32m---> 92\u001b[0;31m         \u001b[0;32mreturn\u001b[0m \u001b[0msuper\u001b[0m\u001b[0;34m(\u001b[0m\u001b[0;34m)\u001b[0m\u001b[0;34m.\u001b[0m\u001b[0mp_mean_variance\u001b[0m\u001b[0;34m(\u001b[0m\u001b[0mself\u001b[0m\u001b[0;34m.\u001b[0m\u001b[0m_wrap_model\u001b[0m\u001b[0;34m(\u001b[0m\u001b[0mmodel\u001b[0m\u001b[0;34m)\u001b[0m\u001b[0;34m,\u001b[0m \u001b[0;34m*\u001b[0m\u001b[0margs\u001b[0m\u001b[0;34m,\u001b[0m \u001b[0;34m**\u001b[0m\u001b[0mkwargs\u001b[0m\u001b[0;34m)\u001b[0m\u001b[0;34m\u001b[0m\u001b[0;34m\u001b[0m\u001b[0m\n\u001b[0m\u001b[1;32m     93\u001b[0m \u001b[0;34m\u001b[0m\u001b[0m\n\u001b[1;32m     94\u001b[0m     def training_losses(\n",
            "\u001b[0;32m/content/DiT/diffusion/gaussian_diffusion.py\u001b[0m in \u001b[0;36mp_mean_variance\u001b[0;34m(self, model, x, t, clip_denoised, denoised_fn, model_kwargs)\u001b[0m\n\u001b[1;32m    277\u001b[0m         \u001b[0mB\u001b[0m\u001b[0;34m,\u001b[0m \u001b[0mC\u001b[0m \u001b[0;34m=\u001b[0m \u001b[0mx\u001b[0m\u001b[0;34m.\u001b[0m\u001b[0mshape\u001b[0m\u001b[0;34m[\u001b[0m\u001b[0;34m:\u001b[0m\u001b[0;36m2\u001b[0m\u001b[0;34m]\u001b[0m\u001b[0;34m\u001b[0m\u001b[0;34m\u001b[0m\u001b[0m\n\u001b[1;32m    278\u001b[0m         \u001b[0;32massert\u001b[0m \u001b[0mt\u001b[0m\u001b[0;34m.\u001b[0m\u001b[0mshape\u001b[0m \u001b[0;34m==\u001b[0m \u001b[0;34m(\u001b[0m\u001b[0mB\u001b[0m\u001b[0;34m,\u001b[0m\u001b[0;34m)\u001b[0m\u001b[0;34m\u001b[0m\u001b[0;34m\u001b[0m\u001b[0m\n\u001b[0;32m--> 279\u001b[0;31m         \u001b[0mmodel_output\u001b[0m \u001b[0;34m=\u001b[0m \u001b[0mmodel\u001b[0m\u001b[0;34m(\u001b[0m\u001b[0mx\u001b[0m\u001b[0;34m,\u001b[0m \u001b[0mt\u001b[0m\u001b[0;34m,\u001b[0m \u001b[0;34m**\u001b[0m\u001b[0mmodel_kwargs\u001b[0m\u001b[0;34m)\u001b[0m\u001b[0;34m\u001b[0m\u001b[0;34m\u001b[0m\u001b[0m\n\u001b[0m\u001b[1;32m    280\u001b[0m         \u001b[0;32mif\u001b[0m \u001b[0misinstance\u001b[0m\u001b[0;34m(\u001b[0m\u001b[0mmodel_output\u001b[0m\u001b[0;34m,\u001b[0m \u001b[0mtuple\u001b[0m\u001b[0;34m)\u001b[0m\u001b[0;34m:\u001b[0m\u001b[0;34m\u001b[0m\u001b[0;34m\u001b[0m\u001b[0m\n\u001b[1;32m    281\u001b[0m             \u001b[0mmodel_output\u001b[0m\u001b[0;34m,\u001b[0m \u001b[0mextra\u001b[0m \u001b[0;34m=\u001b[0m \u001b[0mmodel_output\u001b[0m\u001b[0;34m\u001b[0m\u001b[0;34m\u001b[0m\u001b[0m\n",
            "\u001b[0;32m/content/DiT/diffusion/respace.py\u001b[0m in \u001b[0;36m__call__\u001b[0;34m(self, x, ts, **kwargs)\u001b[0m\n\u001b[1;32m    127\u001b[0m         \u001b[0;31m# if self.rescale_timesteps:\u001b[0m\u001b[0;34m\u001b[0m\u001b[0;34m\u001b[0m\u001b[0m\n\u001b[1;32m    128\u001b[0m         \u001b[0;31m#     new_ts = new_ts.float() * (1000.0 / self.original_num_steps)\u001b[0m\u001b[0;34m\u001b[0m\u001b[0;34m\u001b[0m\u001b[0m\n\u001b[0;32m--> 129\u001b[0;31m         \u001b[0;32mreturn\u001b[0m \u001b[0mself\u001b[0m\u001b[0;34m.\u001b[0m\u001b[0mmodel\u001b[0m\u001b[0;34m(\u001b[0m\u001b[0mx\u001b[0m\u001b[0;34m,\u001b[0m \u001b[0mnew_ts\u001b[0m\u001b[0;34m,\u001b[0m \u001b[0;34m**\u001b[0m\u001b[0mkwargs\u001b[0m\u001b[0;34m)\u001b[0m\u001b[0;34m\u001b[0m\u001b[0;34m\u001b[0m\u001b[0m\n\u001b[0m",
            "\u001b[0;32m/content/DiT/models.py\u001b[0m in \u001b[0;36mforward_with_cfg\u001b[0;34m(self, x, t, y, cfg_scale)\u001b[0m\n\u001b[1;32m    261\u001b[0m         \u001b[0mhalf\u001b[0m \u001b[0;34m=\u001b[0m \u001b[0mx\u001b[0m\u001b[0;34m[\u001b[0m\u001b[0;34m:\u001b[0m \u001b[0mlen\u001b[0m\u001b[0;34m(\u001b[0m\u001b[0mx\u001b[0m\u001b[0;34m)\u001b[0m \u001b[0;34m//\u001b[0m \u001b[0;36m2\u001b[0m\u001b[0;34m]\u001b[0m\u001b[0;34m\u001b[0m\u001b[0;34m\u001b[0m\u001b[0m\n\u001b[1;32m    262\u001b[0m         \u001b[0mcombined\u001b[0m \u001b[0;34m=\u001b[0m \u001b[0mtorch\u001b[0m\u001b[0;34m.\u001b[0m\u001b[0mcat\u001b[0m\u001b[0;34m(\u001b[0m\u001b[0;34m[\u001b[0m\u001b[0mhalf\u001b[0m\u001b[0;34m,\u001b[0m \u001b[0mhalf\u001b[0m\u001b[0;34m]\u001b[0m\u001b[0;34m,\u001b[0m \u001b[0mdim\u001b[0m\u001b[0;34m=\u001b[0m\u001b[0;36m0\u001b[0m\u001b[0;34m)\u001b[0m\u001b[0;34m\u001b[0m\u001b[0;34m\u001b[0m\u001b[0m\n\u001b[0;32m--> 263\u001b[0;31m         \u001b[0mmodel_out\u001b[0m \u001b[0;34m=\u001b[0m \u001b[0mself\u001b[0m\u001b[0;34m.\u001b[0m\u001b[0mforward\u001b[0m\u001b[0;34m(\u001b[0m\u001b[0mcombined\u001b[0m\u001b[0;34m,\u001b[0m \u001b[0mt\u001b[0m\u001b[0;34m,\u001b[0m \u001b[0my\u001b[0m\u001b[0;34m)\u001b[0m\u001b[0;34m\u001b[0m\u001b[0;34m\u001b[0m\u001b[0m\n\u001b[0m\u001b[1;32m    264\u001b[0m         \u001b[0;31m# For exact reproducibility reasons, we apply classifier-free guidance on only\u001b[0m\u001b[0;34m\u001b[0m\u001b[0;34m\u001b[0m\u001b[0m\n\u001b[1;32m    265\u001b[0m         \u001b[0;31m# three channels by default. The standard approach to cfg applies it to all channels.\u001b[0m\u001b[0;34m\u001b[0m\u001b[0;34m\u001b[0m\u001b[0m\n",
            "\u001b[0;32m/content/DiT/models.py\u001b[0m in \u001b[0;36mforward\u001b[0;34m(self, x, t, y)\u001b[0m\n\u001b[1;32m    245\u001b[0m         \"\"\"\n\u001b[1;32m    246\u001b[0m         \u001b[0mx\u001b[0m \u001b[0;34m=\u001b[0m \u001b[0mself\u001b[0m\u001b[0;34m.\u001b[0m\u001b[0mx_embedder\u001b[0m\u001b[0;34m(\u001b[0m\u001b[0mx\u001b[0m\u001b[0;34m)\u001b[0m \u001b[0;34m+\u001b[0m \u001b[0mself\u001b[0m\u001b[0;34m.\u001b[0m\u001b[0mpos_embed\u001b[0m  \u001b[0;31m# (N, T, D), where T = H * W / patch_size ** 2\u001b[0m\u001b[0;34m\u001b[0m\u001b[0;34m\u001b[0m\u001b[0m\n\u001b[0;32m--> 247\u001b[0;31m         \u001b[0mt\u001b[0m \u001b[0;34m=\u001b[0m \u001b[0mself\u001b[0m\u001b[0;34m.\u001b[0m\u001b[0mt_embedder\u001b[0m\u001b[0;34m(\u001b[0m\u001b[0mt\u001b[0m\u001b[0;34m)\u001b[0m                   \u001b[0;31m# (N, D)\u001b[0m\u001b[0;34m\u001b[0m\u001b[0;34m\u001b[0m\u001b[0m\n\u001b[0m\u001b[1;32m    248\u001b[0m         \u001b[0my\u001b[0m \u001b[0;34m=\u001b[0m \u001b[0mself\u001b[0m\u001b[0;34m.\u001b[0m\u001b[0my_embedder\u001b[0m\u001b[0;34m(\u001b[0m\u001b[0my\u001b[0m\u001b[0;34m,\u001b[0m \u001b[0mself\u001b[0m\u001b[0;34m.\u001b[0m\u001b[0mtraining\u001b[0m\u001b[0;34m)\u001b[0m    \u001b[0;31m# (N, D)\u001b[0m\u001b[0;34m\u001b[0m\u001b[0;34m\u001b[0m\u001b[0m\n\u001b[1;32m    249\u001b[0m         \u001b[0mc\u001b[0m \u001b[0;34m=\u001b[0m \u001b[0mt\u001b[0m \u001b[0;34m+\u001b[0m \u001b[0my\u001b[0m                                \u001b[0;31m# (N, D)\u001b[0m\u001b[0;34m\u001b[0m\u001b[0;34m\u001b[0m\u001b[0m\n",
            "\u001b[0;32m/usr/local/lib/python3.10/dist-packages/torch/nn/modules/module.py\u001b[0m in \u001b[0;36m_call_impl\u001b[0;34m(self, *args, **kwargs)\u001b[0m\n\u001b[1;32m   1499\u001b[0m                 \u001b[0;32mor\u001b[0m \u001b[0m_global_backward_pre_hooks\u001b[0m \u001b[0;32mor\u001b[0m \u001b[0m_global_backward_hooks\u001b[0m\u001b[0;34m\u001b[0m\u001b[0;34m\u001b[0m\u001b[0m\n\u001b[1;32m   1500\u001b[0m                 or _global_forward_hooks or _global_forward_pre_hooks):\n\u001b[0;32m-> 1501\u001b[0;31m             \u001b[0;32mreturn\u001b[0m \u001b[0mforward_call\u001b[0m\u001b[0;34m(\u001b[0m\u001b[0;34m*\u001b[0m\u001b[0margs\u001b[0m\u001b[0;34m,\u001b[0m \u001b[0;34m**\u001b[0m\u001b[0mkwargs\u001b[0m\u001b[0;34m)\u001b[0m\u001b[0;34m\u001b[0m\u001b[0;34m\u001b[0m\u001b[0m\n\u001b[0m\u001b[1;32m   1502\u001b[0m         \u001b[0;31m# Do not call functions when jit is used\u001b[0m\u001b[0;34m\u001b[0m\u001b[0;34m\u001b[0m\u001b[0m\n\u001b[1;32m   1503\u001b[0m         \u001b[0mfull_backward_hooks\u001b[0m\u001b[0;34m,\u001b[0m \u001b[0mnon_full_backward_hooks\u001b[0m \u001b[0;34m=\u001b[0m \u001b[0;34m[\u001b[0m\u001b[0;34m]\u001b[0m\u001b[0;34m,\u001b[0m \u001b[0;34m[\u001b[0m\u001b[0;34m]\u001b[0m\u001b[0;34m\u001b[0m\u001b[0;34m\u001b[0m\u001b[0m\n",
            "\u001b[0;32m/content/DiT/models.py\u001b[0m in \u001b[0;36mforward\u001b[0;34m(self, t)\u001b[0m\n\u001b[1;32m     61\u001b[0m     \u001b[0;32mdef\u001b[0m \u001b[0mforward\u001b[0m\u001b[0;34m(\u001b[0m\u001b[0mself\u001b[0m\u001b[0;34m,\u001b[0m \u001b[0mt\u001b[0m\u001b[0;34m)\u001b[0m\u001b[0;34m:\u001b[0m\u001b[0;34m\u001b[0m\u001b[0;34m\u001b[0m\u001b[0m\n\u001b[1;32m     62\u001b[0m         \u001b[0mt_freq\u001b[0m \u001b[0;34m=\u001b[0m \u001b[0mself\u001b[0m\u001b[0;34m.\u001b[0m\u001b[0mtimestep_embedding\u001b[0m\u001b[0;34m(\u001b[0m\u001b[0mt\u001b[0m\u001b[0;34m,\u001b[0m \u001b[0mself\u001b[0m\u001b[0;34m.\u001b[0m\u001b[0mfrequency_embedding_size\u001b[0m\u001b[0;34m)\u001b[0m\u001b[0;34m\u001b[0m\u001b[0;34m\u001b[0m\u001b[0m\n\u001b[0;32m---> 63\u001b[0;31m         \u001b[0mt_emb\u001b[0m \u001b[0;34m=\u001b[0m \u001b[0mself\u001b[0m\u001b[0;34m.\u001b[0m\u001b[0mmlp\u001b[0m\u001b[0;34m(\u001b[0m\u001b[0mt_freq\u001b[0m\u001b[0;34m)\u001b[0m\u001b[0;34m\u001b[0m\u001b[0;34m\u001b[0m\u001b[0m\n\u001b[0m\u001b[1;32m     64\u001b[0m         \u001b[0;32mreturn\u001b[0m \u001b[0mt_emb\u001b[0m\u001b[0;34m\u001b[0m\u001b[0;34m\u001b[0m\u001b[0m\n\u001b[1;32m     65\u001b[0m \u001b[0;34m\u001b[0m\u001b[0m\n",
            "\u001b[0;32m/usr/local/lib/python3.10/dist-packages/torch/nn/modules/module.py\u001b[0m in \u001b[0;36m_call_impl\u001b[0;34m(self, *args, **kwargs)\u001b[0m\n\u001b[1;32m   1499\u001b[0m                 \u001b[0;32mor\u001b[0m \u001b[0m_global_backward_pre_hooks\u001b[0m \u001b[0;32mor\u001b[0m \u001b[0m_global_backward_hooks\u001b[0m\u001b[0;34m\u001b[0m\u001b[0;34m\u001b[0m\u001b[0m\n\u001b[1;32m   1500\u001b[0m                 or _global_forward_hooks or _global_forward_pre_hooks):\n\u001b[0;32m-> 1501\u001b[0;31m             \u001b[0;32mreturn\u001b[0m \u001b[0mforward_call\u001b[0m\u001b[0;34m(\u001b[0m\u001b[0;34m*\u001b[0m\u001b[0margs\u001b[0m\u001b[0;34m,\u001b[0m \u001b[0;34m**\u001b[0m\u001b[0mkwargs\u001b[0m\u001b[0;34m)\u001b[0m\u001b[0;34m\u001b[0m\u001b[0;34m\u001b[0m\u001b[0m\n\u001b[0m\u001b[1;32m   1502\u001b[0m         \u001b[0;31m# Do not call functions when jit is used\u001b[0m\u001b[0;34m\u001b[0m\u001b[0;34m\u001b[0m\u001b[0m\n\u001b[1;32m   1503\u001b[0m         \u001b[0mfull_backward_hooks\u001b[0m\u001b[0;34m,\u001b[0m \u001b[0mnon_full_backward_hooks\u001b[0m \u001b[0;34m=\u001b[0m \u001b[0;34m[\u001b[0m\u001b[0;34m]\u001b[0m\u001b[0;34m,\u001b[0m \u001b[0;34m[\u001b[0m\u001b[0;34m]\u001b[0m\u001b[0;34m\u001b[0m\u001b[0;34m\u001b[0m\u001b[0m\n",
            "\u001b[0;32m/usr/local/lib/python3.10/dist-packages/torch/nn/modules/container.py\u001b[0m in \u001b[0;36mforward\u001b[0;34m(self, input)\u001b[0m\n\u001b[1;32m    215\u001b[0m     \u001b[0;32mdef\u001b[0m \u001b[0mforward\u001b[0m\u001b[0;34m(\u001b[0m\u001b[0mself\u001b[0m\u001b[0;34m,\u001b[0m \u001b[0minput\u001b[0m\u001b[0;34m)\u001b[0m\u001b[0;34m:\u001b[0m\u001b[0;34m\u001b[0m\u001b[0;34m\u001b[0m\u001b[0m\n\u001b[1;32m    216\u001b[0m         \u001b[0;32mfor\u001b[0m \u001b[0mmodule\u001b[0m \u001b[0;32min\u001b[0m \u001b[0mself\u001b[0m\u001b[0;34m:\u001b[0m\u001b[0;34m\u001b[0m\u001b[0;34m\u001b[0m\u001b[0m\n\u001b[0;32m--> 217\u001b[0;31m             \u001b[0minput\u001b[0m \u001b[0;34m=\u001b[0m \u001b[0mmodule\u001b[0m\u001b[0;34m(\u001b[0m\u001b[0minput\u001b[0m\u001b[0;34m)\u001b[0m\u001b[0;34m\u001b[0m\u001b[0;34m\u001b[0m\u001b[0m\n\u001b[0m\u001b[1;32m    218\u001b[0m         \u001b[0;32mreturn\u001b[0m \u001b[0minput\u001b[0m\u001b[0;34m\u001b[0m\u001b[0;34m\u001b[0m\u001b[0m\n\u001b[1;32m    219\u001b[0m \u001b[0;34m\u001b[0m\u001b[0m\n",
            "\u001b[0;32m/usr/local/lib/python3.10/dist-packages/torch/nn/modules/module.py\u001b[0m in \u001b[0;36m_call_impl\u001b[0;34m(self, *args, **kwargs)\u001b[0m\n\u001b[1;32m   1499\u001b[0m                 \u001b[0;32mor\u001b[0m \u001b[0m_global_backward_pre_hooks\u001b[0m \u001b[0;32mor\u001b[0m \u001b[0m_global_backward_hooks\u001b[0m\u001b[0;34m\u001b[0m\u001b[0;34m\u001b[0m\u001b[0m\n\u001b[1;32m   1500\u001b[0m                 or _global_forward_hooks or _global_forward_pre_hooks):\n\u001b[0;32m-> 1501\u001b[0;31m             \u001b[0;32mreturn\u001b[0m \u001b[0mforward_call\u001b[0m\u001b[0;34m(\u001b[0m\u001b[0;34m*\u001b[0m\u001b[0margs\u001b[0m\u001b[0;34m,\u001b[0m \u001b[0;34m**\u001b[0m\u001b[0mkwargs\u001b[0m\u001b[0;34m)\u001b[0m\u001b[0;34m\u001b[0m\u001b[0;34m\u001b[0m\u001b[0m\n\u001b[0m\u001b[1;32m   1502\u001b[0m         \u001b[0;31m# Do not call functions when jit is used\u001b[0m\u001b[0;34m\u001b[0m\u001b[0;34m\u001b[0m\u001b[0m\n\u001b[1;32m   1503\u001b[0m         \u001b[0mfull_backward_hooks\u001b[0m\u001b[0;34m,\u001b[0m \u001b[0mnon_full_backward_hooks\u001b[0m \u001b[0;34m=\u001b[0m \u001b[0;34m[\u001b[0m\u001b[0;34m]\u001b[0m\u001b[0;34m,\u001b[0m \u001b[0;34m[\u001b[0m\u001b[0;34m]\u001b[0m\u001b[0;34m\u001b[0m\u001b[0;34m\u001b[0m\u001b[0m\n",
            "\u001b[0;32m/usr/local/lib/python3.10/dist-packages/torch/ao/nn/quantized/dynamic/modules/linear.py\u001b[0m in \u001b[0;36mforward\u001b[0;34m(self, x)\u001b[0m\n\u001b[1;32m     52\u001b[0m                     x, self._packed_params._packed_params)\n\u001b[1;32m     53\u001b[0m             \u001b[0;32melse\u001b[0m\u001b[0;34m:\u001b[0m\u001b[0;34m\u001b[0m\u001b[0;34m\u001b[0m\u001b[0m\n\u001b[0;32m---> 54\u001b[0;31m                 Y = torch.ops.quantized.linear_dynamic(\n\u001b[0m\u001b[1;32m     55\u001b[0m                     x, self._packed_params._packed_params, reduce_range=True)\n\u001b[1;32m     56\u001b[0m         \u001b[0;32melif\u001b[0m \u001b[0mself\u001b[0m\u001b[0;34m.\u001b[0m\u001b[0m_packed_params\u001b[0m\u001b[0;34m.\u001b[0m\u001b[0mdtype\u001b[0m \u001b[0;34m==\u001b[0m \u001b[0mtorch\u001b[0m\u001b[0;34m.\u001b[0m\u001b[0mfloat16\u001b[0m\u001b[0;34m:\u001b[0m\u001b[0;34m\u001b[0m\u001b[0;34m\u001b[0m\u001b[0m\n",
            "\u001b[0;32m/usr/local/lib/python3.10/dist-packages/torch/_ops.py\u001b[0m in \u001b[0;36m__call__\u001b[0;34m(self, *args, **kwargs)\u001b[0m\n\u001b[1;32m    500\u001b[0m         \u001b[0;31m# We save the function ptr as the `op` attribute on\u001b[0m\u001b[0;34m\u001b[0m\u001b[0;34m\u001b[0m\u001b[0m\n\u001b[1;32m    501\u001b[0m         \u001b[0;31m# OpOverloadPacket to access it here.\u001b[0m\u001b[0;34m\u001b[0m\u001b[0;34m\u001b[0m\u001b[0m\n\u001b[0;32m--> 502\u001b[0;31m         \u001b[0;32mreturn\u001b[0m \u001b[0mself\u001b[0m\u001b[0;34m.\u001b[0m\u001b[0m_op\u001b[0m\u001b[0;34m(\u001b[0m\u001b[0;34m*\u001b[0m\u001b[0margs\u001b[0m\u001b[0;34m,\u001b[0m \u001b[0;34m**\u001b[0m\u001b[0mkwargs\u001b[0m \u001b[0;32mor\u001b[0m \u001b[0;34m{\u001b[0m\u001b[0;34m}\u001b[0m\u001b[0;34m)\u001b[0m\u001b[0;34m\u001b[0m\u001b[0;34m\u001b[0m\u001b[0m\n\u001b[0m\u001b[1;32m    503\u001b[0m \u001b[0;34m\u001b[0m\u001b[0m\n\u001b[1;32m    504\u001b[0m     \u001b[0;31m# TODO: use this to make a __dir__\u001b[0m\u001b[0;34m\u001b[0m\u001b[0;34m\u001b[0m\u001b[0m\n",
            "\u001b[0;31mNotImplementedError\u001b[0m: Could not run 'quantized::linear_dynamic' with arguments from the 'CUDA' backend. This could be because the operator doesn't exist for this backend, or was omitted during the selective/custom build process (if using custom build). If you are a Facebook employee using PyTorch on mobile, please visit https://fburl.com/ptmfixes for possible resolutions. 'quantized::linear_dynamic' is only available for these backends: [CPU, BackendSelect, Python, FuncTorchDynamicLayerBackMode, Functionalize, Named, Conjugate, Negative, ZeroTensor, ADInplaceOrView, AutogradOther, AutogradCPU, AutogradCUDA, AutogradXLA, AutogradMPS, AutogradXPU, AutogradHPU, AutogradLazy, AutogradMeta, Tracer, AutocastCPU, AutocastCUDA, FuncTorchBatched, FuncTorchVmapMode, Batched, VmapMode, FuncTorchGradWrapper, PythonTLSSnapshot, FuncTorchDynamicLayerFrontMode, PythonDispatcher].\n\nCPU: registered at ../aten/src/ATen/native/quantized/cpu/qlinear_dynamic.cpp:662 [kernel]\nBackendSelect: fallthrough registered at ../aten/src/ATen/core/BackendSelectFallbackKernel.cpp:3 [backend fallback]\nPython: registered at ../aten/src/ATen/core/PythonFallbackKernel.cpp:144 [backend fallback]\nFuncTorchDynamicLayerBackMode: registered at ../aten/src/ATen/functorch/DynamicLayer.cpp:491 [backend fallback]\nFunctionalize: registered at ../aten/src/ATen/FunctionalizeFallbackKernel.cpp:280 [backend fallback]\nNamed: registered at ../aten/src/ATen/core/NamedRegistrations.cpp:7 [backend fallback]\nConjugate: registered at ../aten/src/ATen/ConjugateFallback.cpp:17 [backend fallback]\nNegative: registered at ../aten/src/ATen/native/NegateFallback.cpp:19 [backend fallback]\nZeroTensor: registered at ../aten/src/ATen/ZeroTensorFallback.cpp:86 [backend fallback]\nADInplaceOrView: fallthrough registered at ../aten/src/ATen/core/VariableFallbackKernel.cpp:63 [backend fallback]\nAutogradOther: fallthrough registered at ../aten/src/ATen/core/VariableFallbackKernel.cpp:30 [backend fallback]\nAutogradCPU: fallthrough registered at ../aten/src/ATen/core/VariableFallbackKernel.cpp:34 [backend fallback]\nAutogradCUDA: fallthrough registered at ../aten/src/ATen/core/VariableFallbackKernel.cpp:42 [backend fallback]\nAutogradXLA: fallthrough registered at ../aten/src/ATen/core/VariableFallbackKernel.cpp:46 [backend fallback]\nAutogradMPS: fallthrough registered at ../aten/src/ATen/core/VariableFallbackKernel.cpp:54 [backend fallback]\nAutogradXPU: fallthrough registered at ../aten/src/ATen/core/VariableFallbackKernel.cpp:38 [backend fallback]\nAutogradHPU: fallthrough registered at ../aten/src/ATen/core/VariableFallbackKernel.cpp:67 [backend fallback]\nAutogradLazy: fallthrough registered at ../aten/src/ATen/core/VariableFallbackKernel.cpp:50 [backend fallback]\nAutogradMeta: fallthrough registered at ../aten/src/ATen/core/VariableFallbackKernel.cpp:58 [backend fallback]\nTracer: registered at ../torch/csrc/autograd/TraceTypeManual.cpp:294 [backend fallback]\nAutocastCPU: fallthrough registered at ../aten/src/ATen/autocast_mode.cpp:487 [backend fallback]\nAutocastCUDA: fallthrough registered at ../aten/src/ATen/autocast_mode.cpp:354 [backend fallback]\nFuncTorchBatched: registered at ../aten/src/ATen/functorch/LegacyBatchingRegistrations.cpp:815 [backend fallback]\nFuncTorchVmapMode: fallthrough registered at ../aten/src/ATen/functorch/VmapModeRegistrations.cpp:28 [backend fallback]\nBatched: registered at ../aten/src/ATen/LegacyBatchingRegistrations.cpp:1073 [backend fallback]\nVmapMode: fallthrough registered at ../aten/src/ATen/VmapModeRegistrations.cpp:33 [backend fallback]\nFuncTorchGradWrapper: registered at ../aten/src/ATen/functorch/TensorWrapper.cpp:210 [backend fallback]\nPythonTLSSnapshot: registered at ../aten/src/ATen/core/PythonFallbackKernel.cpp:152 [backend fallback]\nFuncTorchDynamicLayerFrontMode: registered at ../aten/src/ATen/functorch/DynamicLayer.cpp:487 [backend fallback]\nPythonDispatcher: registered at ../aten/src/ATen/core/PythonFallbackKernel.cpp:148 [backend fallback]\n"
          ]
        }
      ]
    },
    {
      "cell_type": "code",
      "source": [],
      "metadata": {
        "id": "Kfo8udlRs3xS"
      },
      "execution_count": null,
      "outputs": []
    },
    {
      "cell_type": "code",
      "source": [
        "#квантизованная модель 780мб\n",
        "import matplotlib.pyplot as plt\n",
        "plt.imshow(samples_res[0].permute(1, 2, 0).cpu().detach())"
      ],
      "metadata": {
        "colab": {
          "base_uri": "https://localhost:8080/",
          "height": 490
        },
        "id": "NoyM5gVhs3pR",
        "outputId": "68ca5f94-c52d-46a0-de9b-743b28078a29"
      },
      "execution_count": null,
      "outputs": [
        {
          "output_type": "stream",
          "name": "stderr",
          "text": [
            "WARNING:matplotlib.image:Clipping input data to the valid range for imshow with RGB data ([0..1] for floats or [0..255] for integers).\n"
          ]
        },
        {
          "output_type": "execute_result",
          "data": {
            "text/plain": [
              "<matplotlib.image.AxesImage at 0x7a4cb6bb9f60>"
            ]
          },
          "metadata": {},
          "execution_count": 23
        },
        {
          "output_type": "display_data",
          "data": {
            "text/plain": [
              "<Figure size 640x480 with 1 Axes>"
            ],
            "image/png": "[encoded data removed]"
          },
          "metadata": {}
        }
      ]
    },
    {
      "cell_type": "code",
      "source": [
        "#обычная модель 2600 мб\n",
        "import matplotlib.pyplot as plt\n",
        "plt.imshow(samples_res[0].permute(1, 2, 0).cpu().detach())"
      ],
      "metadata": {
        "colab": {
          "base_uri": "https://localhost:8080/",
          "height": 490
        },
        "id": "rEO3SmVzmjuw",
        "outputId": "8e1143e3-e2b3-41db-e7e7-99af311b4118"
      },
      "execution_count": null,
      "outputs": [
        {
          "output_type": "stream",
          "name": "stderr",
          "text": [
            "WARNING:matplotlib.image:Clipping input data to the valid range for imshow with RGB data ([0..1] for floats or [0..255] for integers).\n"
          ]
        },
        {
          "output_type": "execute_result",
          "data": {
            "text/plain": [
              "<matplotlib.image.AxesImage at 0x7a550be7f880>"
            ]
          },
          "metadata": {},
          "execution_count": 34
        },
        {
          "output_type": "display_data",
          "data": {
            "text/plain": [
              "<Figure size 640x480 with 1 Axes>"
            ],
            "image/png": "[encoded data removed]"
          },
          "metadata": {}
        }
      ]
    },
    {
      "cell_type": "code",
      "source": [],
      "metadata": {
        "id": "7v8uGc-6mjs7"
      },
      "execution_count": null,
      "outputs": []
    },
    {
      "cell_type": "code",
      "source": [],
      "metadata": {
        "id": "AU-Et0QJqWMm"
      },
      "execution_count": null,
      "outputs": []
    },
    {
      "cell_type": "markdown",
      "source": [
        "### Пример из документации torch"
      ],
      "metadata": {
        "id": "3hGl2yCwyzPG"
      }
    },
    {
      "cell_type": "code",
      "source": [
        "import torch\n",
        "import torch.quantization\n",
        "import torch.nn as nn"
      ],
      "metadata": {
        "id": "85iD8fNYc7Nl"
      },
      "execution_count": null,
      "outputs": []
    },
    {
      "cell_type": "code",
      "source": [
        "torch.manual_seed(0)  # set the seed for reproducibility\n",
        "\n",
        "class SampleLSTM(nn.Module):\n",
        "  \"\"\"Sample lstm model\"\"\"\n",
        "\n",
        "  def __init__(self,in_dim,out_dim,depth):\n",
        "     super(SampleLSTM,self).__init__()\n",
        "     self.lstm = nn.LSTM(in_dim,out_dim,depth)\n",
        "\n",
        "  def forward(self,inputs,hidden):\n",
        "     out,hidden = self.lstm(inputs,hidden)\n",
        "     return out, hidden\n",
        "\n",
        "\n",
        "#shape parameters\n",
        "model_dimension=20\n",
        "sequence_length=10\n",
        "batch_size=1\n",
        "lstm_depth=1\n",
        "\n",
        "# random data for input\n",
        "inputs = torch.randn(sequence_length,batch_size,model_dimension)\n",
        "# hidden is actually is a tuple of the initial hidden state and the initial cell state\n",
        "hidden = (torch.randn(lstm_depth,batch_size,model_dimension), torch.randn(lstm_depth,batch_size,model_dimension))"
      ],
      "metadata": {
        "id": "uXVPveKLdnmP"
      },
      "execution_count": null,
      "outputs": []
    },
    {
      "cell_type": "code",
      "source": [
        "# here is our floating point instance\n",
        "original_lstm = SampleLSTM(model_dimension, model_dimension, lstm_depth)"
      ],
      "metadata": {
        "id": "ktuuWcZSdGAS"
      },
      "execution_count": null,
      "outputs": []
    },
    {
      "cell_type": "code",
      "source": [
        "model.blocks.3.mlp.fc2.bias"
      ],
      "metadata": {
        "colab": {
          "base_uri": "https://localhost:8080/",
          "height": 130
        },
        "id": "qXs9076pjxZD",
        "outputId": "aabe25fa-a9f7-4c9d-a31b-3d2255451457"
      },
      "execution_count": null,
      "outputs": [
        {
          "output_type": "error",
          "ename": "SyntaxError",
          "evalue": "ignored",
          "traceback": [
            "\u001b[0;36m  File \u001b[0;32m\"<ipython-input-113-867e942a02a9>\"\u001b[0;36m, line \u001b[0;32m1\u001b[0m\n\u001b[0;31m    model.blocks.3.mlp.fc2.bias\u001b[0m\n\u001b[0m                ^\u001b[0m\n\u001b[0;31mSyntaxError\u001b[0m\u001b[0;31m:\u001b[0m invalid syntax\n"
          ]
        }
      ]
    },
    {
      "cell_type": "code",
      "source": [
        "model.final_layer"
      ],
      "metadata": {
        "colab": {
          "base_uri": "https://localhost:8080/"
        },
        "id": "JiihEjNXkRkn",
        "outputId": "8403825b-705f-47a5-9bfd-e4fd84041699"
      },
      "execution_count": null,
      "outputs": [
        {
          "output_type": "execute_result",
          "data": {
            "text/plain": [
              "FinalLayer(\n",
              "  (norm_final): LayerNorm((1152,), eps=1e-06, elementwise_affine=False)\n",
              "  (linear): Linear(in_features=1152, out_features=32, bias=True)\n",
              "  (adaLN_modulation): Sequential(\n",
              "    (0): SiLU()\n",
              "    (1): Linear(in_features=1152, out_features=2304, bias=True)\n",
              "  )\n",
              ")"
            ]
          },
          "metadata": {},
          "execution_count": 121
        }
      ]
    },
    {
      "cell_type": "code",
      "source": [
        "list(model.state_dict().keys())"
      ],
      "metadata": {
        "colab": {
          "base_uri": "https://localhost:8080/"
        },
        "id": "luWETCxfh0oI",
        "outputId": "211619db-5370-4513-cbbb-0d9854bc65cc"
      },
      "execution_count": null,
      "outputs": [
        {
          "output_type": "execute_result",
          "data": {
            "text/plain": [
              "['pos_embed',\n",
              " 'x_embedder.proj.weight',\n",
              " 'x_embedder.proj.bias',\n",
              " 't_embedder.mlp.0.weight',\n",
              " 't_embedder.mlp.0.bias',\n",
              " 't_embedder.mlp.2.weight',\n",
              " 't_embedder.mlp.2.bias',\n",
              " 'y_embedder.embedding_table.weight',\n",
              " 'blocks.0.attn.qkv.weight',\n",
              " 'blocks.0.attn.qkv.bias',\n",
              " 'blocks.0.attn.proj.weight',\n",
              " 'blocks.0.attn.proj.bias',\n",
              " 'blocks.0.mlp.fc1.weight',\n",
              " 'blocks.0.mlp.fc1.bias',\n",
              " 'blocks.0.mlp.fc2.weight',\n",
              " 'blocks.0.mlp.fc2.bias',\n",
              " 'blocks.0.adaLN_modulation.1.weight',\n",
              " 'blocks.0.adaLN_modulation.1.bias',\n",
              " 'blocks.1.attn.qkv.weight',\n",
              " 'blocks.1.attn.qkv.bias',\n",
              " 'blocks.1.attn.proj.weight',\n",
              " 'blocks.1.attn.proj.bias',\n",
              " 'blocks.1.mlp.fc1.weight',\n",
              " 'blocks.1.mlp.fc1.bias',\n",
              " 'blocks.1.mlp.fc2.weight',\n",
              " 'blocks.1.mlp.fc2.bias',\n",
              " 'blocks.1.adaLN_modulation.1.weight',\n",
              " 'blocks.1.adaLN_modulation.1.bias',\n",
              " 'blocks.2.attn.qkv.weight',\n",
              " 'blocks.2.attn.qkv.bias',\n",
              " 'blocks.2.attn.proj.weight',\n",
              " 'blocks.2.attn.proj.bias',\n",
              " 'blocks.2.mlp.fc1.weight',\n",
              " 'blocks.2.mlp.fc1.bias',\n",
              " 'blocks.2.mlp.fc2.weight',\n",
              " 'blocks.2.mlp.fc2.bias',\n",
              " 'blocks.2.adaLN_modulation.1.weight',\n",
              " 'blocks.2.adaLN_modulation.1.bias',\n",
              " 'blocks.3.attn.qkv.weight',\n",
              " 'blocks.3.attn.qkv.bias',\n",
              " 'blocks.3.attn.proj.weight',\n",
              " 'blocks.3.attn.proj.bias',\n",
              " 'blocks.3.mlp.fc1.weight',\n",
              " 'blocks.3.mlp.fc1.bias',\n",
              " 'blocks.3.mlp.fc2.weight',\n",
              " 'blocks.3.mlp.fc2.bias',\n",
              " 'blocks.3.adaLN_modulation.1.weight',\n",
              " 'blocks.3.adaLN_modulation.1.bias',\n",
              " 'blocks.4.attn.qkv.weight',\n",
              " 'blocks.4.attn.qkv.bias',\n",
              " 'blocks.4.attn.proj.weight',\n",
              " 'blocks.4.attn.proj.bias',\n",
              " 'blocks.4.mlp.fc1.weight',\n",
              " 'blocks.4.mlp.fc1.bias',\n",
              " 'blocks.4.mlp.fc2.weight',\n",
              " 'blocks.4.mlp.fc2.bias',\n",
              " 'blocks.4.adaLN_modulation.1.weight',\n",
              " 'blocks.4.adaLN_modulation.1.bias',\n",
              " 'blocks.5.attn.qkv.weight',\n",
              " 'blocks.5.attn.qkv.bias',\n",
              " 'blocks.5.attn.proj.weight',\n",
              " 'blocks.5.attn.proj.bias',\n",
              " 'blocks.5.mlp.fc1.weight',\n",
              " 'blocks.5.mlp.fc1.bias',\n",
              " 'blocks.5.mlp.fc2.weight',\n",
              " 'blocks.5.mlp.fc2.bias',\n",
              " 'blocks.5.adaLN_modulation.1.weight',\n",
              " 'blocks.5.adaLN_modulation.1.bias',\n",
              " 'blocks.6.attn.qkv.weight',\n",
              " 'blocks.6.attn.qkv.bias',\n",
              " 'blocks.6.attn.proj.weight',\n",
              " 'blocks.6.attn.proj.bias',\n",
              " 'blocks.6.mlp.fc1.weight',\n",
              " 'blocks.6.mlp.fc1.bias',\n",
              " 'blocks.6.mlp.fc2.weight',\n",
              " 'blocks.6.mlp.fc2.bias',\n",
              " 'blocks.6.adaLN_modulation.1.weight',\n",
              " 'blocks.6.adaLN_modulation.1.bias',\n",
              " 'blocks.7.attn.qkv.weight',\n",
              " 'blocks.7.attn.qkv.bias',\n",
              " 'blocks.7.attn.proj.weight',\n",
              " 'blocks.7.attn.proj.bias',\n",
              " 'blocks.7.mlp.fc1.weight',\n",
              " 'blocks.7.mlp.fc1.bias',\n",
              " 'blocks.7.mlp.fc2.weight',\n",
              " 'blocks.7.mlp.fc2.bias',\n",
              " 'blocks.7.adaLN_modulation.1.weight',\n",
              " 'blocks.7.adaLN_modulation.1.bias',\n",
              " 'blocks.8.attn.qkv.weight',\n",
              " 'blocks.8.attn.qkv.bias',\n",
              " 'blocks.8.attn.proj.weight',\n",
              " 'blocks.8.attn.proj.bias',\n",
              " 'blocks.8.mlp.fc1.weight',\n",
              " 'blocks.8.mlp.fc1.bias',\n",
              " 'blocks.8.mlp.fc2.weight',\n",
              " 'blocks.8.mlp.fc2.bias',\n",
              " 'blocks.8.adaLN_modulation.1.weight',\n",
              " 'blocks.8.adaLN_modulation.1.bias',\n",
              " 'blocks.9.attn.qkv.weight',\n",
              " 'blocks.9.attn.qkv.bias',\n",
              " 'blocks.9.attn.proj.weight',\n",
              " 'blocks.9.attn.proj.bias',\n",
              " 'blocks.9.mlp.fc1.weight',\n",
              " 'blocks.9.mlp.fc1.bias',\n",
              " 'blocks.9.mlp.fc2.weight',\n",
              " 'blocks.9.mlp.fc2.bias',\n",
              " 'blocks.9.adaLN_modulation.1.weight',\n",
              " 'blocks.9.adaLN_modulation.1.bias',\n",
              " 'blocks.10.attn.qkv.weight',\n",
              " 'blocks.10.attn.qkv.bias',\n",
              " 'blocks.10.attn.proj.weight',\n",
              " 'blocks.10.attn.proj.bias',\n",
              " 'blocks.10.mlp.fc1.weight',\n",
              " 'blocks.10.mlp.fc1.bias',\n",
              " 'blocks.10.mlp.fc2.weight',\n",
              " 'blocks.10.mlp.fc2.bias',\n",
              " 'blocks.10.adaLN_modulation.1.weight',\n",
              " 'blocks.10.adaLN_modulation.1.bias',\n",
              " 'blocks.11.attn.qkv.weight',\n",
              " 'blocks.11.attn.qkv.bias',\n",
              " 'blocks.11.attn.proj.weight',\n",
              " 'blocks.11.attn.proj.bias',\n",
              " 'blocks.11.mlp.fc1.weight',\n",
              " 'blocks.11.mlp.fc1.bias',\n",
              " 'blocks.11.mlp.fc2.weight',\n",
              " 'blocks.11.mlp.fc2.bias',\n",
              " 'blocks.11.adaLN_modulation.1.weight',\n",
              " 'blocks.11.adaLN_modulation.1.bias',\n",
              " 'blocks.12.attn.qkv.weight',\n",
              " 'blocks.12.attn.qkv.bias',\n",
              " 'blocks.12.attn.proj.weight',\n",
              " 'blocks.12.attn.proj.bias',\n",
              " 'blocks.12.mlp.fc1.weight',\n",
              " 'blocks.12.mlp.fc1.bias',\n",
              " 'blocks.12.mlp.fc2.weight',\n",
              " 'blocks.12.mlp.fc2.bias',\n",
              " 'blocks.12.adaLN_modulation.1.weight',\n",
              " 'blocks.12.adaLN_modulation.1.bias',\n",
              " 'blocks.13.attn.qkv.weight',\n",
              " 'blocks.13.attn.qkv.bias',\n",
              " 'blocks.13.attn.proj.weight',\n",
              " 'blocks.13.attn.proj.bias',\n",
              " 'blocks.13.mlp.fc1.weight',\n",
              " 'blocks.13.mlp.fc1.bias',\n",
              " 'blocks.13.mlp.fc2.weight',\n",
              " 'blocks.13.mlp.fc2.bias',\n",
              " 'blocks.13.adaLN_modulation.1.weight',\n",
              " 'blocks.13.adaLN_modulation.1.bias',\n",
              " 'blocks.14.attn.qkv.weight',\n",
              " 'blocks.14.attn.qkv.bias',\n",
              " 'blocks.14.attn.proj.weight',\n",
              " 'blocks.14.attn.proj.bias',\n",
              " 'blocks.14.mlp.fc1.weight',\n",
              " 'blocks.14.mlp.fc1.bias',\n",
              " 'blocks.14.mlp.fc2.weight',\n",
              " 'blocks.14.mlp.fc2.bias',\n",
              " 'blocks.14.adaLN_modulation.1.weight',\n",
              " 'blocks.14.adaLN_modulation.1.bias',\n",
              " 'blocks.15.attn.qkv.weight',\n",
              " 'blocks.15.attn.qkv.bias',\n",
              " 'blocks.15.attn.proj.weight',\n",
              " 'blocks.15.attn.proj.bias',\n",
              " 'blocks.15.mlp.fc1.weight',\n",
              " 'blocks.15.mlp.fc1.bias',\n",
              " 'blocks.15.mlp.fc2.weight',\n",
              " 'blocks.15.mlp.fc2.bias',\n",
              " 'blocks.15.adaLN_modulation.1.weight',\n",
              " 'blocks.15.adaLN_modulation.1.bias',\n",
              " 'blocks.16.attn.qkv.weight',\n",
              " 'blocks.16.attn.qkv.bias',\n",
              " 'blocks.16.attn.proj.weight',\n",
              " 'blocks.16.attn.proj.bias',\n",
              " 'blocks.16.mlp.fc1.weight',\n",
              " 'blocks.16.mlp.fc1.bias',\n",
              " 'blocks.16.mlp.fc2.weight',\n",
              " 'blocks.16.mlp.fc2.bias',\n",
              " 'blocks.16.adaLN_modulation.1.weight',\n",
              " 'blocks.16.adaLN_modulation.1.bias',\n",
              " 'blocks.17.attn.qkv.weight',\n",
              " 'blocks.17.attn.qkv.bias',\n",
              " 'blocks.17.attn.proj.weight',\n",
              " 'blocks.17.attn.proj.bias',\n",
              " 'blocks.17.mlp.fc1.weight',\n",
              " 'blocks.17.mlp.fc1.bias',\n",
              " 'blocks.17.mlp.fc2.weight',\n",
              " 'blocks.17.mlp.fc2.bias',\n",
              " 'blocks.17.adaLN_modulation.1.weight',\n",
              " 'blocks.17.adaLN_modulation.1.bias',\n",
              " 'blocks.18.attn.qkv.weight',\n",
              " 'blocks.18.attn.qkv.bias',\n",
              " 'blocks.18.attn.proj.weight',\n",
              " 'blocks.18.attn.proj.bias',\n",
              " 'blocks.18.mlp.fc1.weight',\n",
              " 'blocks.18.mlp.fc1.bias',\n",
              " 'blocks.18.mlp.fc2.weight',\n",
              " 'blocks.18.mlp.fc2.bias',\n",
              " 'blocks.18.adaLN_modulation.1.weight',\n",
              " 'blocks.18.adaLN_modulation.1.bias',\n",
              " 'blocks.19.attn.qkv.weight',\n",
              " 'blocks.19.attn.qkv.bias',\n",
              " 'blocks.19.attn.proj.weight',\n",
              " 'blocks.19.attn.proj.bias',\n",
              " 'blocks.19.mlp.fc1.weight',\n",
              " 'blocks.19.mlp.fc1.bias',\n",
              " 'blocks.19.mlp.fc2.weight',\n",
              " 'blocks.19.mlp.fc2.bias',\n",
              " 'blocks.19.adaLN_modulation.1.weight',\n",
              " 'blocks.19.adaLN_modulation.1.bias',\n",
              " 'blocks.20.attn.qkv.weight',\n",
              " 'blocks.20.attn.qkv.bias',\n",
              " 'blocks.20.attn.proj.weight',\n",
              " 'blocks.20.attn.proj.bias',\n",
              " 'blocks.20.mlp.fc1.weight',\n",
              " 'blocks.20.mlp.fc1.bias',\n",
              " 'blocks.20.mlp.fc2.weight',\n",
              " 'blocks.20.mlp.fc2.bias',\n",
              " 'blocks.20.adaLN_modulation.1.weight',\n",
              " 'blocks.20.adaLN_modulation.1.bias',\n",
              " 'blocks.21.attn.qkv.weight',\n",
              " 'blocks.21.attn.qkv.bias',\n",
              " 'blocks.21.attn.proj.weight',\n",
              " 'blocks.21.attn.proj.bias',\n",
              " 'blocks.21.mlp.fc1.weight',\n",
              " 'blocks.21.mlp.fc1.bias',\n",
              " 'blocks.21.mlp.fc2.weight',\n",
              " 'blocks.21.mlp.fc2.bias',\n",
              " 'blocks.21.adaLN_modulation.1.weight',\n",
              " 'blocks.21.adaLN_modulation.1.bias',\n",
              " 'blocks.22.attn.qkv.weight',\n",
              " 'blocks.22.attn.qkv.bias',\n",
              " 'blocks.22.attn.proj.weight',\n",
              " 'blocks.22.attn.proj.bias',\n",
              " 'blocks.22.mlp.fc1.weight',\n",
              " 'blocks.22.mlp.fc1.bias',\n",
              " 'blocks.22.mlp.fc2.weight',\n",
              " 'blocks.22.mlp.fc2.bias',\n",
              " 'blocks.22.adaLN_modulation.1.weight',\n",
              " 'blocks.22.adaLN_modulation.1.bias',\n",
              " 'blocks.23.attn.qkv.weight',\n",
              " 'blocks.23.attn.qkv.bias',\n",
              " 'blocks.23.attn.proj.weight',\n",
              " 'blocks.23.attn.proj.bias',\n",
              " 'blocks.23.mlp.fc1.weight',\n",
              " 'blocks.23.mlp.fc1.bias',\n",
              " 'blocks.23.mlp.fc2.weight',\n",
              " 'blocks.23.mlp.fc2.bias',\n",
              " 'blocks.23.adaLN_modulation.1.weight',\n",
              " 'blocks.23.adaLN_modulation.1.bias',\n",
              " 'blocks.24.attn.qkv.weight',\n",
              " 'blocks.24.attn.qkv.bias',\n",
              " 'blocks.24.attn.proj.weight',\n",
              " 'blocks.24.attn.proj.bias',\n",
              " 'blocks.24.mlp.fc1.weight',\n",
              " 'blocks.24.mlp.fc1.bias',\n",
              " 'blocks.24.mlp.fc2.weight',\n",
              " 'blocks.24.mlp.fc2.bias',\n",
              " 'blocks.24.adaLN_modulation.1.weight',\n",
              " 'blocks.24.adaLN_modulation.1.bias',\n",
              " 'blocks.25.attn.qkv.weight',\n",
              " 'blocks.25.attn.qkv.bias',\n",
              " 'blocks.25.attn.proj.weight',\n",
              " 'blocks.25.attn.proj.bias',\n",
              " 'blocks.25.mlp.fc1.weight',\n",
              " 'blocks.25.mlp.fc1.bias',\n",
              " 'blocks.25.mlp.fc2.weight',\n",
              " 'blocks.25.mlp.fc2.bias',\n",
              " 'blocks.25.adaLN_modulation.1.weight',\n",
              " 'blocks.25.adaLN_modulation.1.bias',\n",
              " 'blocks.26.attn.qkv.weight',\n",
              " 'blocks.26.attn.qkv.bias',\n",
              " 'blocks.26.attn.proj.weight',\n",
              " 'blocks.26.attn.proj.bias',\n",
              " 'blocks.26.mlp.fc1.weight',\n",
              " 'blocks.26.mlp.fc1.bias',\n",
              " 'blocks.26.mlp.fc2.weight',\n",
              " 'blocks.26.mlp.fc2.bias',\n",
              " 'blocks.26.adaLN_modulation.1.weight',\n",
              " 'blocks.26.adaLN_modulation.1.bias',\n",
              " 'blocks.27.attn.qkv.weight',\n",
              " 'blocks.27.attn.qkv.bias',\n",
              " 'blocks.27.attn.proj.weight',\n",
              " 'blocks.27.attn.proj.bias',\n",
              " 'blocks.27.mlp.fc1.weight',\n",
              " 'blocks.27.mlp.fc1.bias',\n",
              " 'blocks.27.mlp.fc2.weight',\n",
              " 'blocks.27.mlp.fc2.bias',\n",
              " 'blocks.27.adaLN_modulation.1.weight',\n",
              " 'blocks.27.adaLN_modulation.1.bias',\n",
              " 'final_layer.linear.weight',\n",
              " 'final_layer.linear.bias',\n",
              " 'final_layer.adaLN_modulation.1.weight',\n",
              " 'final_layer.adaLN_modulation.1.bias']"
            ]
          },
          "metadata": {},
          "execution_count": 117
        }
      ]
    },
    {
      "cell_type": "code",
      "source": [],
      "metadata": {
        "id": "EFyKomrZjR-b"
      },
      "execution_count": null,
      "outputs": []
    },
    {
      "cell_type": "code",
      "source": [
        "list(original_lstm.state_dict().keys())"
      ],
      "metadata": {
        "colab": {
          "base_uri": "https://localhost:8080/"
        },
        "id": "f12D5US7dqgF",
        "outputId": "4d7c412e-6007-4a2c-e5fb-1978b3df5600"
      },
      "execution_count": null,
      "outputs": [
        {
          "output_type": "execute_result",
          "data": {
            "text/plain": [
              "['lstm.weight_ih_l0',\n",
              " 'lstm.weight_hh_l0',\n",
              " 'lstm.bias_ih_l0',\n",
              " 'lstm.bias_hh_l0']"
            ]
          },
          "metadata": {},
          "execution_count": 78
        }
      ]
    },
    {
      "cell_type": "code",
      "source": [
        "original_lstm.lstm.weight_hh_l0"
      ],
      "metadata": {
        "colab": {
          "base_uri": "https://localhost:8080/"
        },
        "id": "k3SBwtUjgLk0",
        "outputId": "1d892c72-442a-4158-e844-16aeefdfb222"
      },
      "execution_count": null,
      "outputs": [
        {
          "output_type": "execute_result",
          "data": {
            "text/plain": [
              "Parameter containing:\n",
              "tensor([[-0.1432, -0.1142,  0.0336,  ..., -0.1142, -0.0200, -0.0279],\n",
              "        [-0.2113,  0.1516, -0.0226,  ...,  0.1554, -0.0017,  0.0686],\n",
              "        [ 0.0078,  0.0061, -0.2128,  ...,  0.0872,  0.0518,  0.2074],\n",
              "        ...,\n",
              "        [ 0.0623,  0.0426, -0.1069,  ...,  0.1204,  0.0552, -0.0466],\n",
              "        [-0.1422,  0.1912, -0.1448,  ..., -0.1343, -0.0965, -0.1382],\n",
              "        [-0.0388,  0.0801, -0.1810,  ..., -0.2228, -0.1998, -0.2007]],\n",
              "       requires_grad=True)"
            ]
          },
          "metadata": {},
          "execution_count": 67
        }
      ]
    },
    {
      "cell_type": "code",
      "source": [
        "original_lstm"
      ],
      "metadata": {
        "colab": {
          "base_uri": "https://localhost:8080/"
        },
        "id": "HTpTstPBgRiS",
        "outputId": "86de5dc1-1c18-431b-eb79-0952878e035e"
      },
      "execution_count": null,
      "outputs": [
        {
          "output_type": "execute_result",
          "data": {
            "text/plain": [
              "SampleLSTM(\n",
              "  (lstm): LSTM(20, 20)\n",
              ")"
            ]
          },
          "metadata": {},
          "execution_count": 73
        }
      ]
    },
    {
      "cell_type": "code",
      "source": [
        "quantized_lstm = torch.quantization.quantize_dynamic(\n",
        "    original_lstm, {original_lstm.lstm.weight_ih_l0}, dtype=torch.qint8\n",
        ")"
      ],
      "metadata": {
        "id": "7s_hSoDxdZKz"
      },
      "execution_count": null,
      "outputs": []
    },
    {
      "cell_type": "code",
      "source": [
        "# here is our floating point instance\n",
        "original_lstm = SampleLSTM(model_dimension, model_dimension, lstm_depth)\n",
        "\n",
        "# apply quantization on the model\n",
        "quantized_lstm = torch.quantization.quantize_dynamic(\n",
        "    original_lstm, {nn.LSTM, nn.Linear}, dtype=torch.qint8\n",
        ")\n",
        "\n",
        "# show the changes that were made\n",
        "print('Original model:')\n",
        "print(original_lstm)\n",
        "print('')\n",
        "print('Quantized model:')\n",
        "print(quantized_lstm)"
      ],
      "metadata": {
        "colab": {
          "base_uri": "https://localhost:8080/"
        },
        "id": "9HL-abVsc_2g",
        "outputId": "eadd76c4-220c-420d-ccbf-3fe05fdabd75"
      },
      "execution_count": null,
      "outputs": [
        {
          "output_type": "stream",
          "name": "stdout",
          "text": [
            "Original model:\n",
            "SampleLSTM(\n",
            "  (lstm): LSTM(20, 20)\n",
            ")\n",
            "\n",
            "Quantized model:\n",
            "SampleLSTM(\n",
            "  (lstm): DynamicQuantizedLSTM(20, 20)\n",
            ")\n"
          ]
        }
      ]
    },
    {
      "cell_type": "code",
      "source": [
        "import os\n",
        "\n",
        "# save the model and check the model size\n",
        "def print_size_of_model(model, label=\"\"):\n",
        "    torch.save(model.state_dict(), \"temp.p\")\n",
        "    size=os.path.getsize(\"temp.p\")\n",
        "    print(\"model: \",label,' \\t','Size (MB):', size/1e6)\n",
        "    os.remove('temp.p')\n",
        "    return size"
      ],
      "metadata": {
        "id": "deZdSmdghm58"
      },
      "execution_count": null,
      "outputs": []
    },
    {
      "cell_type": "code",
      "source": [
        "f=print_size_of_model(original_lstm,\"fp32\")\n",
        "q=print_size_of_model(quantized_lstm,\"int8\")\n",
        "print(\"{0:.2f} times smaller\".format(f/q))"
      ],
      "metadata": {
        "colab": {
          "base_uri": "https://localhost:8080/"
        },
        "id": "XB9hM01Sh4bO",
        "outputId": "2109ae9b-50fa-4f4c-e2eb-66d39992a577"
      },
      "execution_count": null,
      "outputs": [
        {
          "output_type": "stream",
          "name": "stdout",
          "text": [
            "model:  fp32  \t Size (KB): 14.797\n",
            "model:  int8  \t Size (KB): 5.645\n",
            "2.62 times smaller\n"
          ]
        }
      ]
    },
    {
      "cell_type": "code",
      "source": [],
      "metadata": {
        "id": "j74nGDIPh66U"
      },
      "execution_count": null,
      "outputs": []
    },
    {
      "cell_type": "markdown",
      "source": [
        "# Черновик по прунингу"
      ],
      "metadata": {
        "id": "_NooxNIRzAf6"
      }
    },
    {
      "cell_type": "code",
      "source": [
        "from models import DiT_XL_2\n",
        "from download import find_model"
      ],
      "metadata": {
        "id": "-QUZOsykzGef"
      },
      "execution_count": null,
      "outputs": []
    },
    {
      "cell_type": "code",
      "source": [],
      "metadata": {
        "id": "q1c7imQbzX2D"
      },
      "execution_count": null,
      "outputs": []
    },
    {
      "cell_type": "code",
      "source": [
        "\n",
        "image_size = 256 #собакаparam [256, 512]\n",
        "# vae_model = \"stabilityai/sd-vae-ft-ema\" #собакаparam [\"stabilityai/sd-vae-ft-mse\", \"stabilityai/sd-vae-ft-ema\"]\n",
        "latent_size = int(image_size) // 8"
      ],
      "metadata": {
        "id": "YfJgANRMvS9R"
      },
      "execution_count": null,
      "outputs": []
    },
    {
      "cell_type": "code",
      "source": [
        "# Load model:\n",
        "# уже заполняет память\n",
        "\n",
        "model = DiT_XL_2(input_size=latent_size)"
      ],
      "metadata": {
        "id": "o06iVXmYvS9W"
      },
      "execution_count": null,
      "outputs": []
    },
    {
      "cell_type": "code",
      "source": [
        "#бращается к папке DiT если нет весов, то скачивает их c сервера фб\n",
        "# https://dl.fbaipublicfiles.com/DiT/models/{model_name}\n",
        "\n",
        "state_dict = find_model(f\"/content/DiT-XL-2-256x256.pt\")"
      ],
      "metadata": {
        "id": "pkqEgdb8vS9Y"
      },
      "execution_count": null,
      "outputs": []
    },
    {
      "cell_type": "code",
      "execution_count": null,
      "metadata": {
        "outputId": "88447c5a-156f-4aff-e09a-9bd8b1311090",
        "colab": {
          "base_uri": "https://localhost:8080/"
        },
        "id": "NZOFedXnvS9a"
      },
      "outputs": [
        {
          "output_type": "execute_result",
          "data": {
            "text/plain": [
              "<All keys matched successfully>"
            ]
          },
          "metadata": {},
          "execution_count": 36
        }
      ],
      "source": [
        "#загрузка весов внутрь модели\n",
        "model.load_state_dict(state_dict)"
      ]
    },
    {
      "cell_type": "code",
      "source": [
        "model = model.to('cuda')"
      ],
      "metadata": {
        "id": "dW7D98UWVCWV"
      },
      "execution_count": null,
      "outputs": []
    },
    {
      "cell_type": "code",
      "source": [
        "# Этот код применяет L1-прунинг (pruning) к каждому слою nn.Conv2d и nn.Linear в модели,\n",
        "# сохраняя указанный процент ненулевых весов (в данном примере, 50% ненулевых весов).\n",
        "# Затем вызывается prune.remove, чтобы удалить нулевые веса и уменьшить размер модели.\n",
        "\n",
        "# Определите процент прунинга (например, 50%)\n",
        "pruning_perc = 60\n",
        "\n",
        "# Примените прунинг к модели\n",
        "for module in model.modules():\n",
        "    if isinstance(module, nn.Conv2d) or isinstance(module, nn.Linear):\n",
        "        prune.l1_unstructured(module, name=\"weight\", amount=pruning_perc/100.0)\n",
        "\n",
        "        prune.remove(module, \"weight\")\n"
      ],
      "metadata": {
        "id": "dSgV1_lCuSB-"
      },
      "execution_count": null,
      "outputs": []
    },
    {
      "cell_type": "code",
      "source": [
        "torch.save(model.state_dict(), 'prune_w2')"
      ],
      "metadata": {
        "id": "1-vWxpAfVZHz"
      },
      "execution_count": null,
      "outputs": []
    }
  ]
}